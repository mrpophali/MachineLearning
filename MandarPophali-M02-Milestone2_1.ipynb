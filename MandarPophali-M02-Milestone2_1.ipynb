{
 "cells": [
  {
   "cell_type": "markdown",
   "metadata": {},
   "source": [
    "# Milestone 2 - Independent Project\n",
    "Version: Jun-2019\n",
    "\n",
    "## Author - Mandar Pophali"
   ]
  },
  {
   "cell_type": "markdown",
   "metadata": {},
   "source": [
    "## Instructions\n",
    "\n",
    "# Milestone 1\n",
    "\n",
    "1. Generate a clear statement problem and provide location for dataset\n",
    "2. Provide a clear solution to the problem for a non-technical audience\n",
    "3. Visually explore the data to generate insight and include charts and summary statistics\n",
    "\n",
    "(Based on the comments from Milestone 1 review, I have added additional comments on the visulizations in the notebook)\n",
    "\n",
    "# Milestone 2\n",
    "4. Identify a likely distribution for several of the features;\n",
    "5. Compute basic summary statistics by both classical, bootstrap, and Bayesian methods;\n",
    "6. Compute confidence intervals for the above summary statistics by classical, bootstrap, and Bayesian methods.\n",
    "7. Leverage confidence intervals in performing hypothesis tests to determine if the differences in\n",
    "   pairs and multiple populations are significant."
   ]
  },
  {
   "cell_type": "markdown",
   "metadata": {},
   "source": [
    "# Milestone 1\n",
    "\n",
    "## Abstract: This dataset contains house sale prices for King County, which includes Seattle. It includes homes sold between May 2014 and May 2015.  \n",
    "\n",
    "## Problem: What are the top home features which will attract maximum sales price. \n",
    "\n",
    "\n",
    "## Conclusions:\n",
    "\n",
    "#### Avg mean size of the home is ~1800-2200 sqft with 40000 sqft lot, 3 bedrooms and 2.75 baths\n",
    "#### Price has strong correlation with sqft_living and bathrooms/bedrooms\n",
    "#### April-Oct is the busiest season for the home sales in King county\n",
    "#### 98103,98038,98115,98052,98117 are most top 5 sought after king county areas for home buyers. They are also amoung the costly areas as per pricepersqft numbers\n",
    "#### Basement is more common in muti-storied (2.5 or 3 floors) homes. \n"
   ]
  },
  {
   "cell_type": "code",
   "execution_count": 2,
   "metadata": {},
   "outputs": [],
   "source": [
    "# Location of dataset: https://library.startlearninglabs.uw.edu/DATASCI410/Datasets/kc_house_data.csv\n"
   ]
  },
  {
   "cell_type": "code",
   "execution_count": 5,
   "metadata": {},
   "outputs": [],
   "source": [
    "# Load necessary libraries\n",
    "import pandas as pd\n",
    "import numpy as np\n",
    "from matplotlib import pyplot as plt\n",
    "import seaborn as sns\n",
    "%matplotlib inline"
   ]
  },
  {
   "cell_type": "code",
   "execution_count": 6,
   "metadata": {},
   "outputs": [
    {
     "data": {
      "text/html": [
       "<div>\n",
       "<style scoped>\n",
       "    .dataframe tbody tr th:only-of-type {\n",
       "        vertical-align: middle;\n",
       "    }\n",
       "\n",
       "    .dataframe tbody tr th {\n",
       "        vertical-align: top;\n",
       "    }\n",
       "\n",
       "    .dataframe thead th {\n",
       "        text-align: right;\n",
       "    }\n",
       "</style>\n",
       "<table border=\"1\" class=\"dataframe\">\n",
       "  <thead>\n",
       "    <tr style=\"text-align: right;\">\n",
       "      <th></th>\n",
       "      <th>id</th>\n",
       "      <th>date</th>\n",
       "      <th>price</th>\n",
       "      <th>bedrooms</th>\n",
       "      <th>bathrooms</th>\n",
       "      <th>sqft_living</th>\n",
       "      <th>sqft_lot</th>\n",
       "      <th>floors</th>\n",
       "      <th>waterfront</th>\n",
       "      <th>view</th>\n",
       "      <th>...</th>\n",
       "      <th>grade</th>\n",
       "      <th>sqft_above</th>\n",
       "      <th>sqft_basement</th>\n",
       "      <th>yr_built</th>\n",
       "      <th>yr_renovated</th>\n",
       "      <th>zipcode</th>\n",
       "      <th>lat</th>\n",
       "      <th>long</th>\n",
       "      <th>sqft_living15</th>\n",
       "      <th>sqft_lot15</th>\n",
       "    </tr>\n",
       "  </thead>\n",
       "  <tbody>\n",
       "    <tr>\n",
       "      <th>0</th>\n",
       "      <td>7129300520</td>\n",
       "      <td>20141013T000000</td>\n",
       "      <td>221900.0</td>\n",
       "      <td>3</td>\n",
       "      <td>1.00</td>\n",
       "      <td>1180</td>\n",
       "      <td>5650</td>\n",
       "      <td>1.0</td>\n",
       "      <td>0</td>\n",
       "      <td>0</td>\n",
       "      <td>...</td>\n",
       "      <td>7</td>\n",
       "      <td>1180</td>\n",
       "      <td>0</td>\n",
       "      <td>1955</td>\n",
       "      <td>0</td>\n",
       "      <td>98178</td>\n",
       "      <td>47.5112</td>\n",
       "      <td>-122.257</td>\n",
       "      <td>1340</td>\n",
       "      <td>5650</td>\n",
       "    </tr>\n",
       "    <tr>\n",
       "      <th>1</th>\n",
       "      <td>6414100192</td>\n",
       "      <td>20141209T000000</td>\n",
       "      <td>538000.0</td>\n",
       "      <td>3</td>\n",
       "      <td>2.25</td>\n",
       "      <td>2570</td>\n",
       "      <td>7242</td>\n",
       "      <td>2.0</td>\n",
       "      <td>0</td>\n",
       "      <td>0</td>\n",
       "      <td>...</td>\n",
       "      <td>7</td>\n",
       "      <td>2170</td>\n",
       "      <td>400</td>\n",
       "      <td>1951</td>\n",
       "      <td>1991</td>\n",
       "      <td>98125</td>\n",
       "      <td>47.7210</td>\n",
       "      <td>-122.319</td>\n",
       "      <td>1690</td>\n",
       "      <td>7639</td>\n",
       "    </tr>\n",
       "    <tr>\n",
       "      <th>2</th>\n",
       "      <td>5631500400</td>\n",
       "      <td>20150225T000000</td>\n",
       "      <td>180000.0</td>\n",
       "      <td>2</td>\n",
       "      <td>1.00</td>\n",
       "      <td>770</td>\n",
       "      <td>10000</td>\n",
       "      <td>1.0</td>\n",
       "      <td>0</td>\n",
       "      <td>0</td>\n",
       "      <td>...</td>\n",
       "      <td>6</td>\n",
       "      <td>770</td>\n",
       "      <td>0</td>\n",
       "      <td>1933</td>\n",
       "      <td>0</td>\n",
       "      <td>98028</td>\n",
       "      <td>47.7379</td>\n",
       "      <td>-122.233</td>\n",
       "      <td>2720</td>\n",
       "      <td>8062</td>\n",
       "    </tr>\n",
       "    <tr>\n",
       "      <th>3</th>\n",
       "      <td>2487200875</td>\n",
       "      <td>20141209T000000</td>\n",
       "      <td>604000.0</td>\n",
       "      <td>4</td>\n",
       "      <td>3.00</td>\n",
       "      <td>1960</td>\n",
       "      <td>5000</td>\n",
       "      <td>1.0</td>\n",
       "      <td>0</td>\n",
       "      <td>0</td>\n",
       "      <td>...</td>\n",
       "      <td>7</td>\n",
       "      <td>1050</td>\n",
       "      <td>910</td>\n",
       "      <td>1965</td>\n",
       "      <td>0</td>\n",
       "      <td>98136</td>\n",
       "      <td>47.5208</td>\n",
       "      <td>-122.393</td>\n",
       "      <td>1360</td>\n",
       "      <td>5000</td>\n",
       "    </tr>\n",
       "    <tr>\n",
       "      <th>4</th>\n",
       "      <td>1954400510</td>\n",
       "      <td>20150218T000000</td>\n",
       "      <td>510000.0</td>\n",
       "      <td>3</td>\n",
       "      <td>2.00</td>\n",
       "      <td>1680</td>\n",
       "      <td>8080</td>\n",
       "      <td>1.0</td>\n",
       "      <td>0</td>\n",
       "      <td>0</td>\n",
       "      <td>...</td>\n",
       "      <td>8</td>\n",
       "      <td>1680</td>\n",
       "      <td>0</td>\n",
       "      <td>1987</td>\n",
       "      <td>0</td>\n",
       "      <td>98074</td>\n",
       "      <td>47.6168</td>\n",
       "      <td>-122.045</td>\n",
       "      <td>1800</td>\n",
       "      <td>7503</td>\n",
       "    </tr>\n",
       "  </tbody>\n",
       "</table>\n",
       "<p>5 rows × 21 columns</p>\n",
       "</div>"
      ],
      "text/plain": [
       "           id             date     price  bedrooms  bathrooms  sqft_living  \\\n",
       "0  7129300520  20141013T000000  221900.0         3       1.00         1180   \n",
       "1  6414100192  20141209T000000  538000.0         3       2.25         2570   \n",
       "2  5631500400  20150225T000000  180000.0         2       1.00          770   \n",
       "3  2487200875  20141209T000000  604000.0         4       3.00         1960   \n",
       "4  1954400510  20150218T000000  510000.0         3       2.00         1680   \n",
       "\n",
       "   sqft_lot  floors  waterfront  view  ...  grade  sqft_above  sqft_basement  \\\n",
       "0      5650     1.0           0     0  ...      7        1180              0   \n",
       "1      7242     2.0           0     0  ...      7        2170            400   \n",
       "2     10000     1.0           0     0  ...      6         770              0   \n",
       "3      5000     1.0           0     0  ...      7        1050            910   \n",
       "4      8080     1.0           0     0  ...      8        1680              0   \n",
       "\n",
       "   yr_built  yr_renovated  zipcode      lat     long  sqft_living15  \\\n",
       "0      1955             0    98178  47.5112 -122.257           1340   \n",
       "1      1951          1991    98125  47.7210 -122.319           1690   \n",
       "2      1933             0    98028  47.7379 -122.233           2720   \n",
       "3      1965             0    98136  47.5208 -122.393           1360   \n",
       "4      1987             0    98074  47.6168 -122.045           1800   \n",
       "\n",
       "   sqft_lot15  \n",
       "0        5650  \n",
       "1        7639  \n",
       "2        8062  \n",
       "3        5000  \n",
       "4        7503  \n",
       "\n",
       "[5 rows x 21 columns]"
      ]
     },
     "execution_count": 6,
     "metadata": {},
     "output_type": "execute_result"
    }
   ],
   "source": [
    "#load the dataset\n",
    "home_df = pd.read_csv(\"https://library.startlearninglabs.uw.edu/DATASCI410/Datasets/kc_house_data.csv\")\n",
    "home_df.head()"
   ]
  },
  {
   "cell_type": "code",
   "execution_count": null,
   "metadata": {},
   "outputs": [],
   "source": [
    "home_df.describe()"
   ]
  },
  {
   "cell_type": "code",
   "execution_count": null,
   "metadata": {},
   "outputs": [],
   "source": [
    "#dataset cleaning and removing duplicates\n",
    "#convert date into datetime object\n",
    "home_df['date'] = [x.strip('T000000') for x in home_df['date']]\n",
    "home_df['date'] = pd.to_datetime(home_df['date'], format='%Y%m%d')#convert object to datefomat\n",
    "# home_df['id'].nunique() = 21436. it means there are 177 duplicate entries in the dataset.\n",
    "#its quite possible that many of them were sold more than 1 times. For consistancy, remove the duplicate rows\n",
    "home_df.drop_duplicates('id',inplace=True)\n",
    "home_df.reset_index(inplace=True)\n",
    "home_df.info()"
   ]
  },
  {
   "cell_type": "code",
   "execution_count": null,
   "metadata": {},
   "outputs": [],
   "source": []
  },
  {
   "cell_type": "markdown",
   "metadata": {},
   "source": [
    "# How is the distribution of home size(Sqft_living and sqft_lot) and bedrooms "
   ]
  },
  {
   "cell_type": "code",
   "execution_count": null,
   "metadata": {},
   "outputs": [],
   "source": [
    "#plot univariate plots for home size/home lot and bedrooms\n",
    "f,(ax1,ax2,ax3,ax4)=plt.subplots(4,1,figsize=(15,20))\n",
    "sns.set(color_codes=True)\n",
    "ax1.set_xlim(0,10000)\n",
    "ax2.set_xlim(0,150000)\n",
    "ax3.set_xlim(0,9)\n",
    "ax4.set_xlim(0,9)\n",
    "sns.distplot(home_df['sqft_living'],color='r',ax=ax1)\n",
    "sns.kdeplot(home_df['sqft_lot'],color='b',ax=ax2)\n",
    "sns.distplot(home_df['bedrooms'],color='g',ax=ax3)\n",
    "sns.distplot(home_df['bathrooms'],color='g',ax=ax4)"
   ]
  },
  {
   "cell_type": "markdown",
   "metadata": {},
   "source": [
    "# How is the relationship between price and other features like bedrooms/bathrooms and size of home"
   ]
  },
  {
   "cell_type": "code",
   "execution_count": null,
   "metadata": {},
   "outputs": [],
   "source": [
    "#plot relationships for home sale data\n",
    "sns.pairplot(home_df, \n",
    "             vars=[\"price\",\"bedrooms\",\"bathrooms\",\"sqft_living\"],\n",
    "             hue=\"condition\")"
   ]
  },
  {
   "cell_type": "markdown",
   "metadata": {},
   "source": [
    "# How is the relationship between price and other features like lot size/basement size and sqft above"
   ]
  },
  {
   "cell_type": "code",
   "execution_count": null,
   "metadata": {},
   "outputs": [],
   "source": [
    "#plot relationships for home sale data\n",
    "sns.pairplot(home_df, \n",
    "             vars=[\"price\",\"sqft_lot\",\"sqft_basement\",\"sqft_above\"],\n",
    "             hue=\"condition\")"
   ]
  },
  {
   "cell_type": "markdown",
   "metadata": {},
   "source": [
    "# what is the correlation map between feature set."
   ]
  },
  {
   "cell_type": "code",
   "execution_count": null,
   "metadata": {},
   "outputs": [],
   "source": [
    "#find correlation using heatmap\n",
    "#price has strong co-relation(>0.67) with sqft_living,grade,\n",
    "#price has medium co-relation (<0.67) with #bedrooms, Bathrooms,view, sqft_above, sqft_basement\n",
    "#price has no or loose (<0.3)co-relaton with lot size, floors, waterfront,condition\n",
    "corrmat = home_df.corr()\n",
    "f, ax = plt.subplots(figsize=(20, 20))\n",
    "sns.heatmap(corrmat, vmax=.8, square=True, annot=True, fmt='.2f', cmap = \"summer\")\n",
    "plt.show()"
   ]
  },
  {
   "cell_type": "markdown",
   "metadata": {},
   "source": [
    "# What month are busiest during the year"
   ]
  },
  {
   "cell_type": "code",
   "execution_count": null,
   "metadata": {},
   "outputs": [],
   "source": [
    "#Spring (April-Oct) and Summer months are high sales months \n",
    "#Add month of sales column to the dataframe\n",
    "home_df['month_date'] = home_df['date'].dt.month_name()\n",
    "\n",
    "f,ax=plt.subplots(figsize=(15,5))\n",
    "sns.countplot(x='month_date',data=home_df,hue='bedrooms',order=['January','February','March','April','May','June','July','August','September','October','November','December'],ax=ax)"
   ]
  },
  {
   "cell_type": "markdown",
   "metadata": {},
   "source": [
    "## Relation between price and size"
   ]
  },
  {
   "cell_type": "code",
   "execution_count": null,
   "metadata": {},
   "outputs": [],
   "source": [
    "#f,ax=plt.subplots(figsize=(15,5))\n",
    "sns.lmplot(x='sqft_living', y='price', data=home_df,hue='waterfront')"
   ]
  },
  {
   "cell_type": "code",
   "execution_count": null,
   "metadata": {},
   "outputs": [],
   "source": [
    "#f,ax=plt.subplots(figsize=(15,5))\n",
    "sns.lmplot(x='floors', y='price', data=home_df,hue='bedrooms')"
   ]
  },
  {
   "cell_type": "markdown",
   "metadata": {},
   "source": [
    "## what areas see high volume of sales"
   ]
  },
  {
   "cell_type": "code",
   "execution_count": null,
   "metadata": {},
   "outputs": [],
   "source": [
    "f,ax=plt.subplots(figsize=(15,5))\n",
    "sns.countplot(x='zipcode',data=home_df,hue='waterfront',order=home_df['zipcode'].value_counts().index,ax=ax)\n",
    "plt.xticks(rotation=90)"
   ]
  },
  {
   "cell_type": "code",
   "execution_count": null,
   "metadata": {},
   "outputs": [],
   "source": [
    "f,ax=plt.subplots(figsize=(35,5))\n",
    "sns.countplot(x='yr_built',data=home_df,ax=ax)\n",
    "plt.xticks(rotation=90)"
   ]
  },
  {
   "cell_type": "markdown",
   "metadata": {},
   "source": [
    "## Which areas are cheaper vs costlier in the region"
   ]
  },
  {
   "cell_type": "code",
   "execution_count": null,
   "metadata": {},
   "outputs": [],
   "source": [
    "#add pricepersqft to the dataframe\n",
    "home_df['pricepersqft'] = home_df['price']/home_df['sqft_living']\n",
    "ax = plt.figure(figsize=(30, 6)).gca() # define axis\n",
    "home_df.groupby([pd.Grouper(key='zipcode')])['pricepersqft'].count().plot.bar(ax=ax)"
   ]
  },
  {
   "cell_type": "markdown",
   "metadata": {},
   "source": [
    "# How much impact basement area has on the price "
   ]
  },
  {
   "cell_type": "code",
   "execution_count": null,
   "metadata": {},
   "outputs": [],
   "source": [
    "#add column which provides indicator if home as basement or not\n",
    "home_df.loc[home_df.loc[:, \"sqft_basement\"] > 0, \"sqft_basement_Ind\"] = 1\n",
    "home_df.loc[home_df.loc[:, \"sqft_basement\"] == 0, \"sqft_basement_Ind\"] = 0"
   ]
  },
  {
   "cell_type": "code",
   "execution_count": null,
   "metadata": {},
   "outputs": [],
   "source": [
    "home_df['sqft_basement_Ind'].value_counts(0)"
   ]
  },
  {
   "cell_type": "code",
   "execution_count": null,
   "metadata": {},
   "outputs": [],
   "source": [
    "h={0:\"red\",1:\"green\"}\n",
    "i={\"marker\":[\"^\",\"v\"]}\n",
    "\n",
    "g=sns.FacetGrid(home_df,col_wrap=6,\n",
    "                col=\"floors\",\n",
    "                hue=\"sqft_basement_Ind\", \n",
    "                margin_titles=True,\n",
    "                palette=h,\n",
    "                hue_kws=i)\n",
    "\n",
    "g.map(plt.scatter,\"bedrooms\",\"pricepersqft\",alpha=0.8)\n",
    "g.add_legend()\n",
    "plt.xlim(-1,10)"
   ]
  },
  {
   "cell_type": "markdown",
   "metadata": {},
   "source": [
    "# Milestone 2"
   ]
  },
  {
   "cell_type": "markdown",
   "metadata": {},
   "source": [
    "### -Identify a likely distribution for several of the features"
   ]
  },
  {
   "cell_type": "code",
   "execution_count": null,
   "metadata": {},
   "outputs": [],
   "source": [
    "#plot univariate plots for sqft_living/Price/condition/grade\n",
    "f,(ax1,ax2,ax3,ax4,ax5)=plt.subplots(5,1,figsize=(15,20))\n",
    "sns.set(color_codes=True)\n",
    "ax1.set_xlim(0,10000)\n",
    "ax2.set_xlim(0,8500000)\n",
    "#ax3.set_xlim(0,9)\n",
    "ax4.set_xlim(0,250000)\n",
    "sns.distplot(home_df['sqft_living'],color='r',ax=ax1)\n",
    "sns.distplot(home_df['price'],color='b',ax=ax2)\n",
    "sns.distplot(home_df['sqft_above'],color='g',ax=ax3)\n",
    "sns.kdeplot(home_df['sqft_lot'],color='g',ax=ax4)\n",
    "sns.distplot(home_df['sqft_basement'],color='g',ax=ax5)"
   ]
  },
  {
   "cell_type": "markdown",
   "metadata": {},
   "source": [
    "1. Sqft_living/Price/Sqft_above looks like normal distributions but we will make further tests to establish right distribution.\n",
    "2. sqft_lot does not look like normal and has many peaks. We will review the right distribution"
   ]
  },
  {
   "cell_type": "code",
   "execution_count": null,
   "metadata": {},
   "outputs": [],
   "source": [
    "#function to plot histogram \n",
    "def hist_plot(vec, bins):\n",
    "    import matplotlib.pyplot as plt\n",
    "    from statistics import mean\n",
    "    plt.hist(vec, bins = bins)\n",
    "    plt.axvline(mean(vec), color = 'red')\n",
    "    plt.ylabel('Frequency')\n",
    "    plt.xlabel('Value')\n",
    "    \n",
    "def plot_pop(a, b, cols=['pop_A', 'pop_B'], nbins = 100):\n",
    "    import matplotlib.pyplot as plt\n",
    "    minx = min([min(a), min(b)])\n",
    "    maxx = max([max(a), max(b)])\n",
    "    stepx = (maxx - minx)/(nbins + 1)\n",
    "    bins = [minx + i * stepx for i in range(nbins + 1)]\n",
    "    plt.subplot(2, 1, 1) # The first plot\n",
    "    hist_plot(a, bins)\n",
    "    plt.title('Histograme of ' + cols[0] + ' and ' + cols[1])\n",
    "    plt.subplot(2, 1, 2) # The next plot\n",
    "    hist_plot(b, bins=int(nbins/3.5))\n",
    "\n",
    "#function to plot qq_plot\n",
    "def qq_plot(vec1, vec2,cols=['pop_A', 'pop_B']):\n",
    "    import matplotlib.pyplot as plt\n",
    "    import scipy.stats as ss\n",
    "    plt.figure(figsize=(6, 6)).gca() # define axis\n",
    "    ax1 = plt.subplot(221) ## setup the left subplot\n",
    "    ss.probplot(vec1, plot = ax1) ## Plot the left subplot\n",
    "    ax1.set_xlabel(cols[0])\n",
    "    ax1 = plt.subplot(222) ## Set up the right subplot\n",
    "    ss.probplot(vec2, plot = ax1) ## Plot the right subplot\n",
    "    ax1.set_xlabel(cols[1])"
   ]
  },
  {
   "cell_type": "code",
   "execution_count": null,
   "metadata": {},
   "outputs": [],
   "source": [
    "#Check sqft_living and Log sqft_living\n",
    "homesize = home_df['sqft_living']\n",
    "log_homesize = np.log10(home_df['sqft_living']) #log to the base 10 price\n",
    "plot_pop(homesize, log_homesize,cols=['homesize', 'log_homesize'])\n",
    "print(homesize.mean())\n",
    "print(log_homesize.mean())\n",
    "qq_plot(homesize, log_homesize,cols=['homesize', 'log_homesize'])"
   ]
  },
  {
   "cell_type": "code",
   "execution_count": null,
   "metadata": {},
   "outputs": [],
   "source": [
    "from sklearn.preprocessing import scale\n",
    "def ks_test(dat, dist = 'norm'):\n",
    "    from scipy.stats import kstest \n",
    "    ks_statisic, pvalue = kstest(dat, dist)\n",
    "    print('KS-statistic = ' + str(ks_statisic))\n",
    "    print('P-value = ' + str(pvalue))"
   ]
  },
  {
   "cell_type": "code",
   "execution_count": null,
   "metadata": {},
   "outputs": [],
   "source": [
    "ks_test(scale(homesize.astype(float)))"
   ]
  },
  {
   "cell_type": "code",
   "execution_count": null,
   "metadata": {},
   "outputs": [],
   "source": [
    "ks_test(scale(log_homesize.astype(float)))"
   ]
  },
  {
   "cell_type": "markdown",
   "metadata": {},
   "source": [
    "1. sqft_living is not normal distribtion considering very low P value and KS statitics is also low. \n",
    "2. log value of sqft_living is close to normal. We will use this for further analysis now."
   ]
  },
  {
   "cell_type": "code",
   "execution_count": null,
   "metadata": {},
   "outputs": [],
   "source": [
    "#Check price and Log price\n",
    "homeprice = home_df['price']\n",
    "log_homeprice = np.log10(home_df['price']) #log to the base 10 price\n",
    "plot_pop(homeprice, log_homeprice)\n",
    "print(homeprice.mean())\n",
    "print(log_homeprice.mean())\n",
    "qq_plot(homeprice, log_homeprice,cols=['homeprice', 'log_homeprice'])"
   ]
  },
  {
   "cell_type": "code",
   "execution_count": null,
   "metadata": {},
   "outputs": [],
   "source": [
    "ks_test(scale(homeprice.astype(float)))"
   ]
  },
  {
   "cell_type": "code",
   "execution_count": null,
   "metadata": {},
   "outputs": [],
   "source": [
    "ks_test(scale(log_homeprice.astype(float)))"
   ]
  },
  {
   "cell_type": "markdown",
   "metadata": {},
   "source": [
    "The home price is not coming close to normal but looking at the graph above there is a long tail for home price. Lets ignore the long tail for the purpose of normalization and check the distribution "
   ]
  },
  {
   "cell_type": "code",
   "execution_count": null,
   "metadata": {},
   "outputs": [],
   "source": [
    "homeprice = home_df[home_df['price'] <= 1200000]['price'] #select all prices less than 1200k\n",
    "#homeprice = home_df['price']\n",
    "log_homeprice = np.log10(homeprice) #log to the base 10 price\n",
    "plot_pop(homeprice, log_homeprice)\n",
    "print(homeprice.mean())\n",
    "print(log_homeprice.mean())\n",
    "qq_plot(homeprice, log_homeprice,cols=['homeprice', 'log_homeprice'])"
   ]
  },
  {
   "cell_type": "code",
   "execution_count": null,
   "metadata": {},
   "outputs": [],
   "source": [
    "ks_test(scale(homeprice.astype(float)))"
   ]
  },
  {
   "cell_type": "code",
   "execution_count": null,
   "metadata": {},
   "outputs": [],
   "source": [
    "ks_test(scale(log_homeprice.astype(float)))"
   ]
  },
  {
   "cell_type": "markdown",
   "metadata": {},
   "source": [
    "The KS statistic now is more closer to normal for log price value. "
   ]
  },
  {
   "cell_type": "code",
   "execution_count": null,
   "metadata": {},
   "outputs": [],
   "source": [
    "#from scipy.stats import kstest\n",
    "#ks_statisic, pvalue = kstest(scale(log_homeprice.astype(float)),'exponpow',(0.1,))\n",
    "#print('KS-statistic = ' + str(ks_statisic))\n",
    "#print('P-value = ' + str(pvalue))"
   ]
  },
  {
   "cell_type": "code",
   "execution_count": null,
   "metadata": {},
   "outputs": [],
   "source": [
    "#Check sqft_lot and Log sqft_lot\n",
    "homelot = home_df['sqft_lot']\n",
    "log_homelot = np.log10(homelot) #log to the base 10\n",
    "plot_pop(homelot, log_homelot)\n",
    "print(homelot.mean())\n",
    "print(log_homelot.mean())\n",
    "qq_plot(homelot, log_homelot,cols=['homelot', 'log_homelot'])"
   ]
  },
  {
   "cell_type": "markdown",
   "metadata": {},
   "source": [
    "from the qq plot above, it doesn't look like sqft_lot is anyway close to normal distribution. There is no point in calculating the KS value for normal distribution. But lets check KS value for some other distributions "
   ]
  },
  {
   "cell_type": "code",
   "execution_count": null,
   "metadata": {},
   "outputs": [],
   "source": [
    "#fitter package is using sum of square errors to determine best distribution. I am using some closest distributions to compare \n",
    "#log_lot\n",
    "# Use this install command if you do not have this package. Uncomment and run.\n",
    "#!pip install fitter #you may have to uncomment this while running. "
   ]
  },
  {
   "cell_type": "code",
   "execution_count": null,
   "metadata": {},
   "outputs": [],
   "source": [
    "data = scale(log_homelot)\n",
    "from fitter import Fitter\n",
    "f = Fitter(data,distributions=['anglit','norm','cosine','cauchy','gennorm','dweibull','dgamma','laplace','logistic','gumbel_l'])\n",
    "f.fit()\n",
    "f.summary()"
   ]
  },
  {
   "cell_type": "code",
   "execution_count": null,
   "metadata": {},
   "outputs": [],
   "source": [
    "f.get_best()\n",
    "#f.fitted_param['cauchy']"
   ]
  },
  {
   "cell_type": "markdown",
   "metadata": {},
   "source": [
    "The best fit for log sqft_lot is cauchy with mean of -0.07 and deviation of 0.39. I can verify this using KS statistic but i am not sure what parameters to use. If you have any pointers then let me know.\n"
   ]
  },
  {
   "cell_type": "markdown",
   "metadata": {},
   "source": [
    "# - Compute basic summary statistics & confidence intevals by both classical, bootstrap, and Bayesian methods"
   ]
  },
  {
   "cell_type": "code",
   "execution_count": 13,
   "metadata": {},
   "outputs": [
    {
     "data": {
      "text/html": [
       "<div>\n",
       "<style scoped>\n",
       "    .dataframe tbody tr th:only-of-type {\n",
       "        vertical-align: middle;\n",
       "    }\n",
       "\n",
       "    .dataframe tbody tr th {\n",
       "        vertical-align: top;\n",
       "    }\n",
       "\n",
       "    .dataframe thead th {\n",
       "        text-align: right;\n",
       "    }\n",
       "</style>\n",
       "<table border=\"1\" class=\"dataframe\">\n",
       "  <thead>\n",
       "    <tr style=\"text-align: right;\">\n",
       "      <th></th>\n",
       "      <th>id</th>\n",
       "      <th>price</th>\n",
       "      <th>bedrooms</th>\n",
       "      <th>bathrooms</th>\n",
       "      <th>sqft_living</th>\n",
       "      <th>sqft_lot</th>\n",
       "      <th>floors</th>\n",
       "      <th>waterfront</th>\n",
       "      <th>view</th>\n",
       "      <th>condition</th>\n",
       "      <th>grade</th>\n",
       "      <th>sqft_above</th>\n",
       "      <th>sqft_basement</th>\n",
       "      <th>yr_built</th>\n",
       "      <th>yr_renovated</th>\n",
       "      <th>zipcode</th>\n",
       "      <th>lat</th>\n",
       "      <th>long</th>\n",
       "      <th>sqft_living15</th>\n",
       "      <th>sqft_lot15</th>\n",
       "    </tr>\n",
       "  </thead>\n",
       "  <tbody>\n",
       "    <tr>\n",
       "      <th>count</th>\n",
       "      <td>2.161300e+04</td>\n",
       "      <td>2.161300e+04</td>\n",
       "      <td>21613.000000</td>\n",
       "      <td>21613.000000</td>\n",
       "      <td>21613.000000</td>\n",
       "      <td>2.161300e+04</td>\n",
       "      <td>21613.000000</td>\n",
       "      <td>21613.000000</td>\n",
       "      <td>21613.000000</td>\n",
       "      <td>21613.000000</td>\n",
       "      <td>21613.000000</td>\n",
       "      <td>21613.000000</td>\n",
       "      <td>21613.000000</td>\n",
       "      <td>21613.000000</td>\n",
       "      <td>21613.000000</td>\n",
       "      <td>21613.000000</td>\n",
       "      <td>21613.000000</td>\n",
       "      <td>21613.000000</td>\n",
       "      <td>21613.000000</td>\n",
       "      <td>21613.000000</td>\n",
       "    </tr>\n",
       "    <tr>\n",
       "      <th>mean</th>\n",
       "      <td>4.580302e+09</td>\n",
       "      <td>5.400881e+05</td>\n",
       "      <td>3.370842</td>\n",
       "      <td>2.114757</td>\n",
       "      <td>2079.899736</td>\n",
       "      <td>1.510697e+04</td>\n",
       "      <td>1.494309</td>\n",
       "      <td>0.007542</td>\n",
       "      <td>0.234303</td>\n",
       "      <td>3.409430</td>\n",
       "      <td>7.656873</td>\n",
       "      <td>1788.390691</td>\n",
       "      <td>291.509045</td>\n",
       "      <td>1971.005136</td>\n",
       "      <td>84.402258</td>\n",
       "      <td>98077.939805</td>\n",
       "      <td>47.560053</td>\n",
       "      <td>-122.213896</td>\n",
       "      <td>1986.552492</td>\n",
       "      <td>12768.455652</td>\n",
       "    </tr>\n",
       "    <tr>\n",
       "      <th>std</th>\n",
       "      <td>2.876566e+09</td>\n",
       "      <td>3.671272e+05</td>\n",
       "      <td>0.930062</td>\n",
       "      <td>0.770163</td>\n",
       "      <td>918.440897</td>\n",
       "      <td>4.142051e+04</td>\n",
       "      <td>0.539989</td>\n",
       "      <td>0.086517</td>\n",
       "      <td>0.766318</td>\n",
       "      <td>0.650743</td>\n",
       "      <td>1.175459</td>\n",
       "      <td>828.090978</td>\n",
       "      <td>442.575043</td>\n",
       "      <td>29.373411</td>\n",
       "      <td>401.679240</td>\n",
       "      <td>53.505026</td>\n",
       "      <td>0.138564</td>\n",
       "      <td>0.140828</td>\n",
       "      <td>685.391304</td>\n",
       "      <td>27304.179631</td>\n",
       "    </tr>\n",
       "    <tr>\n",
       "      <th>min</th>\n",
       "      <td>1.000102e+06</td>\n",
       "      <td>7.500000e+04</td>\n",
       "      <td>0.000000</td>\n",
       "      <td>0.000000</td>\n",
       "      <td>290.000000</td>\n",
       "      <td>5.200000e+02</td>\n",
       "      <td>1.000000</td>\n",
       "      <td>0.000000</td>\n",
       "      <td>0.000000</td>\n",
       "      <td>1.000000</td>\n",
       "      <td>1.000000</td>\n",
       "      <td>290.000000</td>\n",
       "      <td>0.000000</td>\n",
       "      <td>1900.000000</td>\n",
       "      <td>0.000000</td>\n",
       "      <td>98001.000000</td>\n",
       "      <td>47.155900</td>\n",
       "      <td>-122.519000</td>\n",
       "      <td>399.000000</td>\n",
       "      <td>651.000000</td>\n",
       "    </tr>\n",
       "    <tr>\n",
       "      <th>25%</th>\n",
       "      <td>2.123049e+09</td>\n",
       "      <td>3.219500e+05</td>\n",
       "      <td>3.000000</td>\n",
       "      <td>1.750000</td>\n",
       "      <td>1427.000000</td>\n",
       "      <td>5.040000e+03</td>\n",
       "      <td>1.000000</td>\n",
       "      <td>0.000000</td>\n",
       "      <td>0.000000</td>\n",
       "      <td>3.000000</td>\n",
       "      <td>7.000000</td>\n",
       "      <td>1190.000000</td>\n",
       "      <td>0.000000</td>\n",
       "      <td>1951.000000</td>\n",
       "      <td>0.000000</td>\n",
       "      <td>98033.000000</td>\n",
       "      <td>47.471000</td>\n",
       "      <td>-122.328000</td>\n",
       "      <td>1490.000000</td>\n",
       "      <td>5100.000000</td>\n",
       "    </tr>\n",
       "    <tr>\n",
       "      <th>50%</th>\n",
       "      <td>3.904930e+09</td>\n",
       "      <td>4.500000e+05</td>\n",
       "      <td>3.000000</td>\n",
       "      <td>2.250000</td>\n",
       "      <td>1910.000000</td>\n",
       "      <td>7.618000e+03</td>\n",
       "      <td>1.500000</td>\n",
       "      <td>0.000000</td>\n",
       "      <td>0.000000</td>\n",
       "      <td>3.000000</td>\n",
       "      <td>7.000000</td>\n",
       "      <td>1560.000000</td>\n",
       "      <td>0.000000</td>\n",
       "      <td>1975.000000</td>\n",
       "      <td>0.000000</td>\n",
       "      <td>98065.000000</td>\n",
       "      <td>47.571800</td>\n",
       "      <td>-122.230000</td>\n",
       "      <td>1840.000000</td>\n",
       "      <td>7620.000000</td>\n",
       "    </tr>\n",
       "    <tr>\n",
       "      <th>75%</th>\n",
       "      <td>7.308900e+09</td>\n",
       "      <td>6.450000e+05</td>\n",
       "      <td>4.000000</td>\n",
       "      <td>2.500000</td>\n",
       "      <td>2550.000000</td>\n",
       "      <td>1.068800e+04</td>\n",
       "      <td>2.000000</td>\n",
       "      <td>0.000000</td>\n",
       "      <td>0.000000</td>\n",
       "      <td>4.000000</td>\n",
       "      <td>8.000000</td>\n",
       "      <td>2210.000000</td>\n",
       "      <td>560.000000</td>\n",
       "      <td>1997.000000</td>\n",
       "      <td>0.000000</td>\n",
       "      <td>98118.000000</td>\n",
       "      <td>47.678000</td>\n",
       "      <td>-122.125000</td>\n",
       "      <td>2360.000000</td>\n",
       "      <td>10083.000000</td>\n",
       "    </tr>\n",
       "    <tr>\n",
       "      <th>max</th>\n",
       "      <td>9.900000e+09</td>\n",
       "      <td>7.700000e+06</td>\n",
       "      <td>33.000000</td>\n",
       "      <td>8.000000</td>\n",
       "      <td>13540.000000</td>\n",
       "      <td>1.651359e+06</td>\n",
       "      <td>3.500000</td>\n",
       "      <td>1.000000</td>\n",
       "      <td>4.000000</td>\n",
       "      <td>5.000000</td>\n",
       "      <td>13.000000</td>\n",
       "      <td>9410.000000</td>\n",
       "      <td>4820.000000</td>\n",
       "      <td>2015.000000</td>\n",
       "      <td>2015.000000</td>\n",
       "      <td>98199.000000</td>\n",
       "      <td>47.777600</td>\n",
       "      <td>-121.315000</td>\n",
       "      <td>6210.000000</td>\n",
       "      <td>871200.000000</td>\n",
       "    </tr>\n",
       "  </tbody>\n",
       "</table>\n",
       "</div>"
      ],
      "text/plain": [
       "                 id         price      bedrooms     bathrooms   sqft_living  \\\n",
       "count  2.161300e+04  2.161300e+04  21613.000000  21613.000000  21613.000000   \n",
       "mean   4.580302e+09  5.400881e+05      3.370842      2.114757   2079.899736   \n",
       "std    2.876566e+09  3.671272e+05      0.930062      0.770163    918.440897   \n",
       "min    1.000102e+06  7.500000e+04      0.000000      0.000000    290.000000   \n",
       "25%    2.123049e+09  3.219500e+05      3.000000      1.750000   1427.000000   \n",
       "50%    3.904930e+09  4.500000e+05      3.000000      2.250000   1910.000000   \n",
       "75%    7.308900e+09  6.450000e+05      4.000000      2.500000   2550.000000   \n",
       "max    9.900000e+09  7.700000e+06     33.000000      8.000000  13540.000000   \n",
       "\n",
       "           sqft_lot        floors    waterfront          view     condition  \\\n",
       "count  2.161300e+04  21613.000000  21613.000000  21613.000000  21613.000000   \n",
       "mean   1.510697e+04      1.494309      0.007542      0.234303      3.409430   \n",
       "std    4.142051e+04      0.539989      0.086517      0.766318      0.650743   \n",
       "min    5.200000e+02      1.000000      0.000000      0.000000      1.000000   \n",
       "25%    5.040000e+03      1.000000      0.000000      0.000000      3.000000   \n",
       "50%    7.618000e+03      1.500000      0.000000      0.000000      3.000000   \n",
       "75%    1.068800e+04      2.000000      0.000000      0.000000      4.000000   \n",
       "max    1.651359e+06      3.500000      1.000000      4.000000      5.000000   \n",
       "\n",
       "              grade    sqft_above  sqft_basement      yr_built  yr_renovated  \\\n",
       "count  21613.000000  21613.000000   21613.000000  21613.000000  21613.000000   \n",
       "mean       7.656873   1788.390691     291.509045   1971.005136     84.402258   \n",
       "std        1.175459    828.090978     442.575043     29.373411    401.679240   \n",
       "min        1.000000    290.000000       0.000000   1900.000000      0.000000   \n",
       "25%        7.000000   1190.000000       0.000000   1951.000000      0.000000   \n",
       "50%        7.000000   1560.000000       0.000000   1975.000000      0.000000   \n",
       "75%        8.000000   2210.000000     560.000000   1997.000000      0.000000   \n",
       "max       13.000000   9410.000000    4820.000000   2015.000000   2015.000000   \n",
       "\n",
       "            zipcode           lat          long  sqft_living15     sqft_lot15  \n",
       "count  21613.000000  21613.000000  21613.000000   21613.000000   21613.000000  \n",
       "mean   98077.939805     47.560053   -122.213896    1986.552492   12768.455652  \n",
       "std       53.505026      0.138564      0.140828     685.391304   27304.179631  \n",
       "min    98001.000000     47.155900   -122.519000     399.000000     651.000000  \n",
       "25%    98033.000000     47.471000   -122.328000    1490.000000    5100.000000  \n",
       "50%    98065.000000     47.571800   -122.230000    1840.000000    7620.000000  \n",
       "75%    98118.000000     47.678000   -122.125000    2360.000000   10083.000000  \n",
       "max    98199.000000     47.777600   -121.315000    6210.000000  871200.000000  "
      ]
     },
     "execution_count": 13,
     "metadata": {},
     "output_type": "execute_result"
    }
   ],
   "source": [
    "home_df.describe()"
   ]
  },
  {
   "cell_type": "code",
   "execution_count": null,
   "metadata": {},
   "outputs": [],
   "source": [
    "home_df.mean()"
   ]
  },
  {
   "cell_type": "code",
   "execution_count": 14,
   "metadata": {},
   "outputs": [
    {
     "name": "stdout",
     "output_type": "stream",
     "text": [
      "5.666784389394538\n",
      "5.6665741274456005\n"
     ]
    },
    {
     "data": {
      "image/png": "[encoded data removed]",
      "text/plain": [
       "<Figure size 432x288 with 2 Axes>"
      ]
     },
     "metadata": {
      "needs_background": "light"
     },
     "output_type": "display_data"
    }
   ],
   "source": [
    "#calculate bootstrapped mean for home prices\n",
    "n_replicas = 2000\n",
    "\n",
    "price_bootstrap_means = pd.Series([\n",
    "    np.log10(home_df['price']).sample(frac=1, replace=True).mean()\n",
    "    for i in range(n_replicas)])\n",
    "\n",
    "print(np.log10(home_df['price']).sample(frac=1, replace=True).mean())\n",
    "print(price_bootstrap_means.mean())\n",
    "\n",
    "def plot_hist(x, p=5):\n",
    "    # Plot the distribution and mark the mean\n",
    "    plt.hist(x, alpha=.5)\n",
    "    plt.axvline(x.mean())\n",
    "    # 95% confidence interval    \n",
    "    plt.axvline(np.percentile(x, p/2.), color='red', linewidth=3)\n",
    "    plt.axvline(np.percentile(x, 100-p/2.), color='red', linewidth=3)\n",
    "\n",
    "\n",
    "def plot_dists(a, b, nbins, a_label='pop_A', b_label='pop_B', p=5):\n",
    "    # Create a single sequence of bins to be shared across both\n",
    "    # distribution plots for visualization consistency.\n",
    "    combined = pd.concat([a, b])\n",
    "    breaks = np.linspace(\n",
    "        combined.min(), \n",
    "        combined.max(), \n",
    "        num=nbins+1)\n",
    "\n",
    "    plt.subplot(2, 1, 1)\n",
    "    plot_hist(a)\n",
    "    plt.title(a_label)\n",
    "    \n",
    "    plt.subplot(2, 1, 2)\n",
    "    plot_hist(b)\n",
    "    plt.title(b_label)\n",
    "    \n",
    "    plt.tight_layout()\n",
    "\n",
    "\n",
    "plot_dists(np.log10(home_df['price']), price_bootstrap_means, \n",
    "           nbins=80, a_label='population log home price', b_label='bootstraped log home price')"
   ]
  },
  {
   "cell_type": "code",
   "execution_count": null,
   "metadata": {},
   "outputs": [],
   "source": [
    "from scipy.stats import norm\n",
    "#Confidence Interval using classical method\n",
    "\n",
    "alpha = 0.95\n",
    "half_width = norm.ppf((1 + alpha)/2, loc=np.log10(home_df['price']).mean(), scale=np.log10(home_df['price']).std()) - np.log10(home_df['price']).mean()\n",
    "print('The half width is %.2f' % half_width)\n",
    "\n",
    "ci_low = np.log10(home_df['price']).mean() - half_width\n",
    "ci_high = np.log10(home_df['price']).mean() + half_width\n",
    "\n",
    "print('The %.2f level CI is (%.2f , %.2f)' % (alpha, ci_low, ci_high))"
   ]
  },
  {
   "cell_type": "code",
   "execution_count": null,
   "metadata": {},
   "outputs": [],
   "source": [
    "#Confidence Interval using bootstrap method\n",
    "\n",
    "alpha = 0.95\n",
    "half_width = norm.ppf((1 + alpha)/2, loc=price_bootstrap_means.mean(), scale=price_bootstrap_means.std()) - price_bootstrap_means.mean()\n",
    "print('The half width is %.2f' % half_width)\n",
    "\n",
    "ci_low = price_bootstrap_means.mean() - half_width\n",
    "ci_high = price_bootstrap_means.mean() + half_width\n",
    "\n",
    "print('The actual mean is %.2f' % np.log10(home_df['price']).mean())\n",
    "print('The %.2f level CI is (%.2f , %.2f)' % (alpha, ci_low, ci_high))"
   ]
  },
  {
   "cell_type": "markdown",
   "metadata": {},
   "source": [
    "The bootrapped is not really having major impact on mean. One of the reasons could be that log price is close being normal distribution. The CI is much narrow for bootstrapped distribution."
   ]
  },
  {
   "cell_type": "code",
   "execution_count": null,
   "metadata": {},
   "outputs": [],
   "source": [
    "#calculate bootstrapped mean for home sizes\n",
    "\n",
    "homesize_bootstrap_means = pd.Series([\n",
    "    np.log10(home_df['sqft_living']).sample(frac=0.5, replace=True).mean()\n",
    "    for i in range(n_replicas)])\n",
    "\n",
    "print(np.log10(home_df['sqft_living']).sample(frac=0.5, replace=True).mean())\n",
    "print(homesize_bootstrap_means.mean())\n",
    "\n",
    "plot_dists(np.log10(home_df['sqft_living']), homesize_bootstrap_means, \n",
    "           nbins=80, a_label='population log home size', b_label='bootstraped log home size')"
   ]
  },
  {
   "cell_type": "code",
   "execution_count": null,
   "metadata": {},
   "outputs": [],
   "source": [
    "#Confidence Interval using classical method\n",
    "\n",
    "alpha = 0.95\n",
    "half_width = norm.ppf((1 + alpha)/2, loc=np.log10(home_df['sqft_living']).mean(), scale=np.log10(home_df['sqft_living']).std()) - np.log10(home_df['sqft_living']).mean()\n",
    "print('The half width is %.4f' % half_width)\n",
    "\n",
    "ci_low = np.log10(home_df['sqft_living']).mean() - half_width\n",
    "ci_high = np.log10(home_df['sqft_living']).mean() + half_width\n",
    "\n",
    "print('The %.2f level CI is (%.2f , %.2f)' % (alpha, ci_low, ci_high))"
   ]
  },
  {
   "cell_type": "code",
   "execution_count": null,
   "metadata": {},
   "outputs": [],
   "source": [
    "#Confidence Interval using bootstrap method\n",
    "\n",
    "alpha = 0.95\n",
    "half_width = norm.ppf((1 + alpha)/2, loc=homesize_bootstrap_means.mean(), scale=homesize_bootstrap_means.std()) - homesize_bootstrap_means.mean()\n",
    "print('The half width is %.4f' % half_width)\n",
    "\n",
    "ci_low = homesize_bootstrap_means.mean() - half_width\n",
    "ci_high = homesize_bootstrap_means.mean() + half_width\n",
    "\n",
    "print('The actual mean is %.4f' % np.log10(home_df['sqft_living']).mean())\n",
    "print('The %.2f level CI is (%.4f , %.4f)' % (alpha, ci_low, ci_high))"
   ]
  },
  {
   "cell_type": "markdown",
   "metadata": {},
   "source": [
    "Bootstrapped and actual means are very very close for home size. "
   ]
  },
  {
   "cell_type": "markdown",
   "metadata": {},
   "source": [
    "### lets perform Bayesian model to sqft_lot feature.\n",
    "#### Problem statement: The median value of home lot (Log) is 3.88184. What is the probability of home sold in king county between May 2014 and May 2015 had home lot (log) more than the 3.88184. Technically its 50% based on the all values available in the data set But we will do the following\n",
    "1. Get small sample from the original data set. Select a prior p\n",
    "2. Using data, compute the likelyhood \n",
    "3. Compute the posterior and posterior distribution"
   ]
  },
  {
   "cell_type": "code",
   "execution_count": null,
   "metadata": {},
   "outputs": [],
   "source": [
    "import scipy\n",
    "homelot_sample = pd.Series(np.log10(home_df['sqft_lot']).sample(frac=0.003, replace=True))"
   ]
  },
  {
   "cell_type": "code",
   "execution_count": null,
   "metadata": {},
   "outputs": [],
   "source": [
    "big_homelot = [1 if x > 3.88184 else 0 for x in homelot_sample]\n",
    "big_homelot = np.transpose(big_homelot)\n",
    "big_homelot"
   ]
  },
  {
   "cell_type": "code",
   "execution_count": null,
   "metadata": {},
   "outputs": [],
   "source": [
    "N = len(big_homelot)  # sample size\n",
    "n_big_homelot = sum(big_homelot)  # number of big lot homes\n",
    "n_not = N - n_big_homelot # number not big lot homes\n",
    "print('big lot homes = %d small lot homes = %d'\n",
    "    '\\nProbability of big lot homes = %.4f' \n",
    "      % (n_big_homelot, n_not, n_big_homelot / (n_big_homelot + n_not)))"
   ]
  },
  {
   "cell_type": "markdown",
   "metadata": {},
   "source": [
    "Let's test a prior distribution for our one model parameter $p$, $P(p)$. We know a lot about home data at this point, so we will start with a cauchy distribution as indicated by fitter method above."
   ]
  },
  {
   "cell_type": "code",
   "execution_count": null,
   "metadata": {},
   "outputs": [],
   "source": [
    "#cauchy': (-0.07331538570584614, 0.393508174956687)}\n",
    "\n",
    "gamma_values = [0.39, 0.7]\n",
    "linestyles = ['-', '--']\n",
    "mu = 0\n",
    "p = np.linspace(-5, 5, 1000)\n",
    "# plot the distributions\n",
    "fig, ax = plt.subplots(figsize=(10, 5))\n",
    "\n",
    "for gamma, ls in zip(gamma_values, linestyles):\n",
    "    dist = cauchy(mu, gamma)\n",
    "\n",
    "    plt.plot(p, dist.pdf(p), ls=ls, color='black',\n",
    "             label=r'$\\mu=%i,\\ \\gamma=%.4f$' % (mu, gamma))\n",
    "\n",
    "plt.xlim(-6, 6)\n",
    "plt.ylim(0, 1)\n",
    "\n",
    "plt.xlabel('$p$')\n",
    "plt.ylabel(r'$p(x|\\mu,\\gamma)$')\n",
    "plt.title('Cauchy Distribution for home lot(log)')\n",
    "\n",
    "plt.legend()\n",
    "plt.show()"
   ]
  },
  {
   "cell_type": "markdown",
   "metadata": {},
   "source": [
    "Now lets compute the likelyhood. We can view the observation of each home sold is big or not as a Bernoulli trial, so we will use the binomial distribution."
   ]
  },
  {
   "cell_type": "code",
   "execution_count": null,
   "metadata": {},
   "outputs": [],
   "source": [
    "def likelihood(p, data):\n",
    "    k = sum(data)\n",
    "    N = len(data)\n",
    "    # Compute Binomial likelihood\n",
    "    l = scipy.special.comb(N, k) * p**k * (1-p)**(N-k)\n",
    "    # Normalize the likelihood to sum to unity\n",
    "    return l/sum(l)\n",
    "N = 1000\n",
    "p1 = dist.cdf(p)\n",
    "l = likelihood(p1, big_homelot)\n",
    "plt.plot(p1, l)\n",
    "plt.title('Likelihood function')\n",
    "plt.xlabel('Parameter')\n",
    "plt.ylabel('Likelihood')\n",
    "plt.show()"
   ]
  },
  {
   "cell_type": "code",
   "execution_count": null,
   "metadata": {},
   "outputs": [],
   "source": [
    "def posterior(prior, like):\n",
    "    post = prior * like # compute the product of the probabilities\n",
    "    return post / sum(post) # normalize the distribution to sum to unity"
   ]
  },
  {
   "cell_type": "code",
   "execution_count": null,
   "metadata": {},
   "outputs": [],
   "source": [
    "def plot_post(prior, like, post, x):\n",
    "    maxy = max(max(prior), max(like), max(post))\n",
    "    plt.figure(figsize=(12, 4))\n",
    "    plt.plot(x, like, label='likelihood', linewidth=12, color='black', alpha=.2)\n",
    "    plt.plot(x, prior, label='prior')\n",
    "    plt.plot(x, post, label='posterior', color='green')\n",
    "    plt.ylim(-0.25, maxy+0.1)\n",
    "    plt.xlim(0, 1)\n",
    "    plt.title('Density of prior, likelihood and posterior')\n",
    "    plt.xlabel('Parameter value')\n",
    "    plt.ylabel('Density')\n",
    "    plt.legend()\n",
    "\n",
    "pp = dist.pdf(p)\n",
    "post = posterior(pp, l)\n",
    "plot_post(pp, l, post, p1)"
   ]
  },
  {
   "cell_type": "code",
   "execution_count": null,
   "metadata": {},
   "outputs": [],
   "source": [
    "#calculate the credible inteval\n",
    "num_samples = 1000000\n",
    "lower_q, upper_q = [.025, .975]\n",
    "\n",
    "def plot_ci(p, post, num_samples, lower_q, upper_q):\n",
    "    ## This function computes a credible interval using an assumption\n",
    "    ## of symetry in the bulk of the distribution to keep the \n",
    "    ## calculation simple. \n",
    "    ## Compute a large sample by resampling with replacement\n",
    "    samples = np.random.choice(p, size=num_samples, replace=True, p=post)\n",
    "    ci = scipy.percentile(samples, [lower_q*100, upper_q*100]) # compute the quantiles\n",
    "    \n",
    "    interval = upper_q - lower_q\n",
    "    plt.title('Posterior density with %.3f credible interval' % interval)\n",
    "    plt.plot(p, post, color='blue')\n",
    "    plt.xlabel('Parameter value')\n",
    "    plt.ylabel('Density')\n",
    "    plt.axvline(x=ci[0], color='red')\n",
    "    plt.axvline(x=ci[1], color='red')\n",
    "    print('The %.3f credible interval is %.3f to %.3f' \n",
    "          % (interval, lower_q, upper_q))\n",
    "    \n",
    "plot_ci(p1, post, num_samples, lower_q, upper_q)"
   ]
  },
  {
   "cell_type": "markdown",
   "metadata": {},
   "source": [
    "The credible interval is range from 0.31 to 0.55 (visual intepretation). The actual value (0.5) is pretty much coming between the interval range. "
   ]
  },
  {
   "cell_type": "markdown",
   "metadata": {},
   "source": [
    "# - Leverage confidence intervals in performing hypothesis tests to determine if the differences in pairs and multiple populations are significant."
   ]
  },
  {
   "cell_type": "markdown",
   "metadata": {},
   "source": [
    "### problem statement\n",
    "### Take 2 samples from data for sqft_above and compare them using hypothesis testing and bootstrapping. Lastly also compare using bayesian statistics.\n"
   ]
  },
  {
   "cell_type": "code",
   "execution_count": 7,
   "metadata": {},
   "outputs": [],
   "source": [
    "homesize_sample1 = pd.Series(np.log10(home_df['sqft_living']).sample(frac=0.1, replace=False))\n",
    "homesize_sample2 = pd.Series(np.log10(home_df['sqft_living']).sample(frac=0.1, replace=False))\n",
    "homelot_sample3 = pd.Series(np.log10(home_df['sqft_lot']).sample(frac=0.1, replace=False))\n",
    "homelot_sample4 = pd.Series(np.log10(home_df['sqft_lot']).sample(frac=0.1, replace=False))"
   ]
  },
  {
   "cell_type": "code",
   "execution_count": 8,
   "metadata": {},
   "outputs": [
    {
     "data": {
      "image/png": "[encoded data removed]",
      "text/plain": [
       "<Figure size 864x288 with 4 Axes>"
      ]
     },
     "metadata": {
      "needs_background": "light"
     },
     "output_type": "display_data"
    }
   ],
   "source": [
    "#classical test to check means of samples\n",
    "%matplotlib inline\n",
    "def hist_plot(vec, bins):\n",
    "    import matplotlib.pyplot as plt\n",
    "    from statistics import mean\n",
    "#    plt.figure(figsize = (4,4))\n",
    "    plt.hist(vec, bins = bins)\n",
    "    plt.axvline(mean(vec), color = 'red')\n",
    "    plt.ylabel('# homes')\n",
    "    plt.xlabel('home lot or size')\n",
    "    \n",
    "def plot_pop(a, b, c, d,cols=['pop_A', 'pop_B', 'pop_C','pop_D'], nbins = 50):\n",
    "    import matplotlib.pyplot as plt\n",
    "    minx = min([min(a), min(b), min(c), min(d)])\n",
    "    maxx = max([max(a), max(b), max(c), max(d)])\n",
    "    stepx = (maxx - minx)/(nbins + 1)\n",
    "    bins = [minx + i * stepx for i in range(nbins + 1)]\n",
    "    plt.figure(figsize = (12,4))\n",
    "    plt.subplot(2, 2, 1) # The first plot\n",
    "    hist_plot(a, bins)\n",
    "    plt.title(cols[0])\n",
    "    #plt.title('Histogram of ' + cols[0] + ' and ' + cols[1] + ' and '  + cols[2])\n",
    "    plt.subplot(2, 2, 2) # The next plot\n",
    "    hist_plot(c, bins)\n",
    "    plt.title(cols[2])\n",
    "    plt.subplot(2, 2, 3) # The next plot\n",
    "    hist_plot(b, bins)\n",
    "    plt.title(cols[1])\n",
    "    plt.subplot(2, 2, 4) # The next plot\n",
    "    hist_plot(d, bins)\n",
    "    plt.title(cols[3])\n",
    "#    plt.tight_layout()\n",
    "\n",
    "plot_pop(homesize_sample1, homesize_sample2, homelot_sample3,homelot_sample4,cols=['size1','size2','lot1','lot2'])"
   ]
  },
  {
   "cell_type": "markdown",
   "metadata": {},
   "source": [
    "As expected, the size1 and size2 samples looks very similar. The lot1 and lot2 samples are also similar. "
   ]
  },
  {
   "cell_type": "code",
   "execution_count": 9,
   "metadata": {},
   "outputs": [
    {
     "name": "stdout",
     "output_type": "stream",
     "text": [
      "homesize_sample1 & homesize_sample2\n",
      "DegFreedom    4319.748115\n",
      "Difference      -0.014218\n",
      "Statistic       -2.519758\n",
      "PValue           0.011779\n",
      "Low95CI         -0.025281\n",
      "High95CI        -0.003156\n",
      "dtype: float64\n",
      "homesize_sample1 & homelot_sample3\n",
      "DegFreedom    3046.922495\n",
      "Difference      -0.636999\n",
      "Statistic      -67.387228\n",
      "PValue           0.000000\n",
      "Low95CI         -0.655534\n",
      "High95CI        -0.618465\n",
      "dtype: float64\n",
      "homesize_sample1, homelot_sample4\n",
      "DegFreedom    3119.545139\n",
      "Difference      -0.632187\n",
      "Statistic      -69.298446\n",
      "PValue           0.000000\n",
      "Low95CI         -0.650074\n",
      "High95CI        -0.614300\n",
      "dtype: float64\n",
      "homesize_sample2, homelot_sample3\n",
      "DegFreedom    3059.342006\n",
      "Difference      -0.622781\n",
      "Statistic      -65.793654\n",
      "PValue           0.000000\n",
      "Low95CI         -0.641341\n",
      "High95CI        -0.604221\n",
      "dtype: float64\n",
      "homesize_sample2, homelot_sample4\n",
      "DegFreedom    3132.742061\n",
      "Difference      -0.617969\n",
      "Statistic      -67.641155\n",
      "PValue           0.000000\n",
      "Low95CI         -0.635882\n",
      "High95CI        -0.600056\n",
      "dtype: float64\n",
      "homelot_sample3, homelot_sample4\n",
      "DegFreedom    4311.841312\n",
      "Difference       0.004812\n",
      "Statistic        0.405272\n",
      "PValue           0.685298\n",
      "Low95CI         -0.018466\n",
      "High95CI         0.028090\n",
      "dtype: float64\n"
     ]
    }
   ],
   "source": [
    "#Lets do a t-test for the 4 samples\n",
    "\n",
    "def t_test(a, b, alpha, alternative='two-sided'):\n",
    "    from scipy import stats\n",
    "    import scipy.stats as ss\n",
    "    import pandas as pd\n",
    "    import statsmodels.stats.weightstats as ws\n",
    "    \n",
    "    diff = a.mean() - b.mean()\n",
    "\n",
    "    res = ss.ttest_ind(a, b, equal_var=False)\n",
    "      \n",
    "    means = ws.CompareMeans(ws.DescrStatsW(a), ws.DescrStatsW(b))\n",
    "    confint = means.tconfint_diff(alpha=alpha, alternative=alternative, usevar='unequal') \n",
    "    degfree = means.dof_satt()\n",
    "\n",
    "    index = ['DegFreedom', 'Difference', 'Statistic', 'PValue', 'Low95CI', 'High95CI']\n",
    "    return pd.Series([degfree, diff, res[0], res[1], confint[0], confint[1]], index = index)\n",
    "\n",
    "test1 = t_test(homesize_sample1, homesize_sample2, 0.05)\n",
    "test2 = t_test(homesize_sample1, homelot_sample3, 0.05)\n",
    "test3 = t_test(homesize_sample1, homelot_sample4, 0.05)\n",
    "test4 = t_test(homesize_sample2, homelot_sample3, 0.05)\n",
    "test5 = t_test(homesize_sample2, homelot_sample4, 0.05)\n",
    "test6 = t_test(homelot_sample3, homelot_sample4, 0.05)\n",
    "\n",
    "print('homesize_sample1 & homesize_sample2')\n",
    "print(test1)\n",
    "print('homesize_sample1 & homelot_sample3')\n",
    "print(test2)\n",
    "print('homesize_sample1, homelot_sample4')\n",
    "print(test3)\n",
    "print('homesize_sample2, homelot_sample3')\n",
    "print(test4)\n",
    "print('homesize_sample2, homelot_sample4')\n",
    "print(test5)\n",
    "print('homelot_sample3, homelot_sample4')\n",
    "print(test6)"
   ]
  },
  {
   "cell_type": "markdown",
   "metadata": {},
   "source": [
    "1. Sample1 and Sample2 are very similar and P values/Statistics indicate the same\n",
    "2. Sample3 and Sample4 are very similar and P values/Statistics indicate the same\n",
    "3. For rest of the combinations, P value is close to zero and we can reject the null hypothesis. As expected, those samples are definitetly not from same population"
   ]
  },
  {
   "cell_type": "code",
   "execution_count": 10,
   "metadata": {},
   "outputs": [
    {
     "data": {
      "image/png": "[encoded data removed]",
      "text/plain": [
       "<Figure size 864x288 with 4 Axes>"
      ]
     },
     "metadata": {
      "needs_background": "light"
     },
     "output_type": "display_data"
    }
   ],
   "source": [
    "#Lets do Bootstrap tests for 4 samples\n",
    "n_replicas = 500\n",
    "\n",
    "sample1_bootstrap = pd.Series([\n",
    "    homesize_sample1.sample(frac=1, replace=True).mean()\n",
    "    for i in range(n_replicas)])\n",
    "sample2_bootstrap = pd.Series([\n",
    "    homesize_sample2.sample(frac=1, replace=True).mean()\n",
    "    for i in range(n_replicas)])\n",
    "sample3_bootstrap = pd.Series([\n",
    "    homelot_sample3.sample(frac=1, replace=True).mean()\n",
    "    for i in range(n_replicas)])\n",
    "sample4_bootstrap = pd.Series([\n",
    "    homelot_sample4.sample(frac=1, replace=True).mean()\n",
    "    for i in range(n_replicas)])\n",
    "\n",
    "plot_pop(homesize_sample1, homesize_sample2, homelot_sample3,homelot_sample4,cols=['size1','size2','lot1','lot2'])"
   ]
  },
  {
   "cell_type": "code",
   "execution_count": 11,
   "metadata": {},
   "outputs": [],
   "source": [
    "#lets compare if confidence intervals for all samples overlaps zero. \n",
    "def bsMeanDiff (data1, data2):\n",
    "    diffs=[]\n",
    "    # Compute mean of all datasets\n",
    "    all_data = data1.append(data2)\n",
    "    mean_all = all_data.mean()\n",
    "    # Generate shifted arrays\n",
    "    data1_shifted = data1 - np.mean(data1) + mean_all\n",
    "    data2_shifted = data2 - np.mean(data2) + mean_all\n",
    "    # Compute 1,000 bootstrap replicates from shifted arrays\n",
    "    data1_bs = pd.Series([data1_shifted.sample(frac=1, replace=True).mean() for i in range(1000)])\n",
    "    data2_bs = pd.Series([data2_shifted.sample(frac=1, replace=True).mean() for i in range(1000)])\n",
    "    # Get replicates of difference of means: bs_replicates\n",
    "    bs_diffs = data1_bs - data2_bs\n",
    "    plot_hist(bs_diffs)"
   ]
  },
  {
   "cell_type": "code",
   "execution_count": 15,
   "metadata": {},
   "outputs": [
    {
     "data": {
      "image/png": "[encoded data removed]",
      "text/plain": [
       "<Figure size 432x288 with 1 Axes>"
      ]
     },
     "metadata": {
      "needs_background": "light"
     },
     "output_type": "display_data"
    }
   ],
   "source": [
    "bsMeanDiff(homesize_sample1,homesize_sample2)"
   ]
  },
  {
   "cell_type": "markdown",
   "metadata": {},
   "source": [
    "As expected, CI overlaps zero. Both samples are same."
   ]
  },
  {
   "cell_type": "code",
   "execution_count": 17,
   "metadata": {},
   "outputs": [
    {
     "data": {
      "image/png": "[encoded data removed]",
      "text/plain": [
       "<Figure size 432x288 with 1 Axes>"
      ]
     },
     "metadata": {
      "needs_background": "light"
     },
     "output_type": "display_data"
    }
   ],
   "source": [
    "bsMeanDiff(homesize_sample1,homelot_sample4)"
   ]
  },
  {
   "cell_type": "markdown",
   "metadata": {},
   "source": [
    "Its interesting observation. The samples are of two different features. It appears the difference in means are very close but its not overlapping with zero. But we can say that both belong to same sample since there is overlap for CI"
   ]
  },
  {
   "cell_type": "code",
   "execution_count": 291,
   "metadata": {},
   "outputs": [
    {
     "name": "stdout",
     "output_type": "stream",
     "text": [
      "Multiple Comparison of Means - Tukey HSD,FWER=0.05\n",
      "==============================================\n",
      " group1  group2 meandiff  lower  upper  reject\n",
      "----------------------------------------------\n",
      "sample1 sample2 -0.0036  -0.0269 0.0197 False \n",
      "sample1 sample3  0.6321   0.6088 0.6554  True \n",
      "sample1 sample4  0.632    0.6087 0.6554  True \n",
      "sample2 sample3  0.6357   0.6124 0.659   True \n",
      "sample2 sample4  0.6356   0.6123 0.659   True \n",
      "sample3 sample4 -0.0001  -0.0234 0.0233 False \n",
      "----------------------------------------------\n"
     ]
    }
   ],
   "source": [
    "#tukey HSD using actual values\n",
    "from statsmodels.stats.multicomp import pairwise_tukeyhsd\n",
    "df = pd.DataFrame({'vals': homesize_sample1.tolist() + homesize_sample2.tolist() + homelot_sample3.tolist() + homelot_sample4.tolist(),\n",
    "                   'group_num': ['sample1'] * 2161 + ['sample2'] * 2161 + ['sample3'] * 2161 + ['sample4'] * 2161})\n",
    "Tukey_HSD = pairwise_tukeyhsd(df.vals, df.group_num)\n",
    "print(Tukey_HSD)"
   ]
  },
  {
   "cell_type": "markdown",
   "metadata": {},
   "source": [
    "The Tukey HSD results are on the expected lines. The sample1 and Sample2 are same. Sample3 and Sample 4 are also same. Rest of the combinations can be rejected. "
   ]
  },
  {
   "cell_type": "code",
   "execution_count": 318,
   "metadata": {},
   "outputs": [
    {
     "name": "stdout",
     "output_type": "stream",
     "text": [
      "Mean of price: 0.7\n"
     ]
    },
    {
     "data": {
      "image/png": "[encoded data removed]",
      "text/plain": [
       "<Figure size 432x288 with 1 Axes>"
      ]
     },
     "metadata": {
      "needs_background": "light"
     },
     "output_type": "display_data"
    }
   ],
   "source": [
    "#Comparing Bayesian models\n",
    "#problem statement: Compare prices for two zipcodes(98103,98039) in the dataset. As per EDA above, 98103 is having homes with \n",
    "#higher cost/sqft and also higher volume than 98039.\n",
    "num_samples = 75\n",
    "home_98103 = home_df[home_df['zipcode'] == 98103]['price'].sample(n=num_samples)\n",
    "home_98032 = home_df[home_df['zipcode'] == 98032]['price'].sample(n=num_samples)\n",
    "plt.title('Histograms of home prices in 98103 and 98039')\n",
    "home_98103 = np.log10(home_98103)\n",
    "home_98032 = np.log10(home_98032)\n",
    "home_98103.hist(label='98103', bins=10, alpha=.7)\n",
    "home_98032.hist(label='98032', bins=10, alpha=.7)\n",
    "plt.xlabel('price')\n",
    "plt.legend()\n",
    "\n",
    "mean_price = np.concatenate([home_98103, home_98032,]).mean()\n",
    "print('Mean of price: %.1f' % np.log10(mean_price))\n"
   ]
  },
  {
   "cell_type": "markdown",
   "metadata": {},
   "source": [
    "fixed empirical estimate of the standard deviation"
   ]
  },
  {
   "cell_type": "code",
   "execution_count": 319,
   "metadata": {},
   "outputs": [
    {
     "name": "stdout",
     "output_type": "stream",
     "text": [
      "Mean = 5.770, Standard deviation = 0.143\n"
     ]
    },
    {
     "data": {
      "image/png": "[encoded data removed]",
      "text/plain": [
       "<Figure size 432x288 with 1 Axes>"
      ]
     },
     "metadata": {
      "needs_background": "light"
     },
     "output_type": "display_data"
    }
   ],
   "source": [
    "N = 1000\n",
    "p = np.linspace(5, 6.2, num=N)\n",
    "\n",
    "pp = scipy.stats.norm.pdf(p, loc=home_98103.mean(), scale=5)\n",
    "pp = pp / pp.sum() # normalize\n",
    "\n",
    "def comp_like(p, x): \n",
    "    variance = np.std(x)**2 # sigmasqr\n",
    "    x_mean = np.asarray(x).mean()  # xbar\n",
    "    print('Mean = %.3f, Standard deviation = %.3f' % (x_mean, np.std(x)))\n",
    "    n = len(x)\n",
    "    l = np.exp(-n * np.square(x_mean - p) / (2 * variance))\n",
    "    return l / l.sum()\n",
    "\n",
    "like_98103 = comp_like(p, home_98103)\n",
    "post_98103 = posterior(pp, like_98103)\n",
    "\n",
    "plt.plot(p, pp, label='prior')\n",
    "plt.plot(p, like_98103, label='likelihood', alpha=.3, linewidth=10)\n",
    "plt.plot(p, post_98103, label='posterior')\n",
    "plt.legend()\n",
    "plt.show()"
   ]
  },
  {
   "cell_type": "code",
   "execution_count": 320,
   "metadata": {},
   "outputs": [
    {
     "name": "stdout",
     "output_type": "stream",
     "text": [
      "Mean = 5.389, Standard deviation = 0.114\n"
     ]
    },
    {
     "data": {
      "image/png": "[encoded data removed]",
      "text/plain": [
       "<Figure size 432x288 with 1 Axes>"
      ]
     },
     "metadata": {
      "needs_background": "light"
     },
     "output_type": "display_data"
    }
   ],
   "source": [
    "pp_98032 = scipy.stats.norm.pdf(p, loc=home_98032.mean(), scale=5)\n",
    "pp_98032 = pp_98032 / pp_98032.sum() # normalize\n",
    "\n",
    "like_98032 = comp_like(p, home_98032)\n",
    "post_98032 = posterior(pp_98032, like_98032)\n",
    "\n",
    "plt.plot(p, pp_98032, label='prior')\n",
    "plt.plot(p, like_98032, label='likelihood', alpha=.3, linewidth=10)\n",
    "plt.plot(p, post_98032, label='posterior')\n",
    "plt.legend()\n",
    "plt.show()"
   ]
  },
  {
   "cell_type": "markdown",
   "metadata": {},
   "source": [
    "Lets compute the confidence intervals"
   ]
  },
  {
   "cell_type": "code",
   "execution_count": 321,
   "metadata": {},
   "outputs": [
    {
     "name": "stdout",
     "output_type": "stream",
     "text": [
      "The 0.950 credible interval is 0.025 to 0.975\n"
     ]
    },
    {
     "data": {
      "image/png": "[encoded data removed]",
      "text/plain": [
       "<Figure size 432x288 with 1 Axes>"
      ]
     },
     "metadata": {
      "needs_background": "light"
     },
     "output_type": "display_data"
    }
   ],
   "source": [
    "num_samples = 100000\n",
    "\n",
    "plot_ci(p, post_98103, num_samples, lower_q=.025, upper_q=.975)\n"
   ]
  },
  {
   "cell_type": "code",
   "execution_count": 322,
   "metadata": {},
   "outputs": [
    {
     "name": "stdout",
     "output_type": "stream",
     "text": [
      "The 0.950 credible interval is 0.025 to 0.975\n"
     ]
    },
    {
     "data": {
      "image/png": "[encoded data removed]",
      "text/plain": [
       "<Figure size 432x288 with 1 Axes>"
      ]
     },
     "metadata": {
      "needs_background": "light"
     },
     "output_type": "display_data"
    }
   ],
   "source": [
    "plot_ci(p, post_98032, num_samples, lower_q=.025, upper_q=.975)"
   ]
  },
  {
   "cell_type": "markdown",
   "metadata": {},
   "source": [
    "The mean log prices are different for both zipcodes\n"
   ]
  }
 ],
 "metadata": {
  "kernelspec": {
   "display_name": "Python 3",
   "language": "python",
   "name": "python3"
  },
  "language_info": {
   "codemirror_mode": {
    "name": "ipython",
    "version": 3
   },
   "file_extension": ".py",
   "mimetype": "text/x-python",
   "name": "python",
   "nbconvert_exporter": "python",
   "pygments_lexer": "ipython3",
   "version": "3.7.3"
  },
  "toc": {
   "base_numbering": 1,
   "nav_menu": {},
   "number_sections": true,
   "sideBar": true,
   "skip_h1_title": false,
   "title_cell": "Table of Contents",
   "title_sidebar": "Contents",
   "toc_cell": false,
   "toc_position": {},
   "toc_section_display": true,
   "toc_window_display": false
  }
 },
 "nbformat": 4,
 "nbformat_minor": 1
}
