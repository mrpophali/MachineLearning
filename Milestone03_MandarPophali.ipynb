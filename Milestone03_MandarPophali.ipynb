{
 "cells": [
  {
   "cell_type": "markdown",
   "metadata": {},
   "source": [
    "# <font color=\"blue\">Milestone 3:  Diaper Manufacturing quality control using Neural Network</font>\n",
    "# <font color=\"blue\">Author: Mandar Pophali</font>\n",
    "### <font color=\"blue\">Date: 8th Dec 2019</font>"
   ]
  },
  {
   "cell_type": "markdown",
   "metadata": {},
   "source": [
    "Problem Description:\n",
    "\n",
    "For the diaper manufacturing data provided in UCI repository, plan following \n",
    "\n",
    "**Milestone1**\n",
    "1. Read and merge data\n",
    "2. Clean and prepare data \n",
    "3. Visually explore data\n",
    "4. Handle class imbalance problem\n",
    "5. Apply feature selection techniques to reduce dimensionality of data\n",
    "\n",
    "**Milestone3**\n",
    "6. Split prepared data from Milestone 1 into training and testing\n",
    "7. Build a simple neural networks model\n",
    "8. Build a DNN model\n",
    "9. Build a RNN model\n",
    "10. Summarize your findings with examples.  Explain what the manufacturer should focus on to optimize the diaper manufacturing process."
   ]
  },
  {
   "cell_type": "markdown",
   "metadata": {},
   "source": [
    "## Read and Merge data"
   ]
  },
  {
   "cell_type": "code",
   "execution_count": 2,
   "metadata": {},
   "outputs": [],
   "source": [
    "# imports\n",
    "import pandas as pd\n",
    "import numpy as np\n",
    "import matplotlib.pyplot as plt\n",
    "from sklearn.metrics import mutual_info_score\n",
    "\n",
    "# for hyperparameter tuning\n",
    "from sklearn.model_selection import GridSearchCV\n",
    "\n",
    "%matplotlib inline\n"
   ]
  },
  {
   "cell_type": "code",
   "execution_count": 3,
   "metadata": {},
   "outputs": [],
   "source": [
    "#load secom dataset \n",
    "url = \"https://archive.ics.uci.edu/ml/machine-learning-databases/secom/secom.data\"\n",
    "#Names the columns as Feature<number>\n",
    "\n",
    "names = [\"feature\" + str(x) for x in range(1, 591)]\n",
    "secom_var = pd.read_csv(url, sep=\" \", names=names, na_values = \"NaN\") \n",
    "\n",
    "# use classification as output along with date\n",
    "url_l = \"https://archive.ics.uci.edu/ml/machine-learning-databases/secom/secom_labels.data\"\n",
    "secom_labels = pd.read_csv(url_l,sep=\" \",names = [\"classification\",\"date\"],parse_dates = [\"date\"],na_values = \"NaN\")"
   ]
  },
  {
   "cell_type": "code",
   "execution_count": 4,
   "metadata": {},
   "outputs": [],
   "source": [
    "#combine the label and datasets\n",
    "dia_merged = pd.merge(secom_var, secom_labels,left_index=True,right_index=True)"
   ]
  },
  {
   "cell_type": "code",
   "execution_count": 5,
   "metadata": {},
   "outputs": [
    {
     "data": {
      "text/html": [
       "<div>\n",
       "<style scoped>\n",
       "    .dataframe tbody tr th:only-of-type {\n",
       "        vertical-align: middle;\n",
       "    }\n",
       "\n",
       "    .dataframe tbody tr th {\n",
       "        vertical-align: top;\n",
       "    }\n",
       "\n",
       "    .dataframe thead th {\n",
       "        text-align: right;\n",
       "    }\n",
       "</style>\n",
       "<table border=\"1\" class=\"dataframe\">\n",
       "  <thead>\n",
       "    <tr style=\"text-align: right;\">\n",
       "      <th></th>\n",
       "      <th>feature1</th>\n",
       "      <th>feature2</th>\n",
       "      <th>feature3</th>\n",
       "      <th>feature4</th>\n",
       "      <th>feature5</th>\n",
       "      <th>feature6</th>\n",
       "      <th>feature7</th>\n",
       "      <th>feature8</th>\n",
       "      <th>feature9</th>\n",
       "      <th>feature10</th>\n",
       "      <th>...</th>\n",
       "      <th>feature583</th>\n",
       "      <th>feature584</th>\n",
       "      <th>feature585</th>\n",
       "      <th>feature586</th>\n",
       "      <th>feature587</th>\n",
       "      <th>feature588</th>\n",
       "      <th>feature589</th>\n",
       "      <th>feature590</th>\n",
       "      <th>classification</th>\n",
       "      <th>date</th>\n",
       "    </tr>\n",
       "  </thead>\n",
       "  <tbody>\n",
       "    <tr>\n",
       "      <th>1562</th>\n",
       "      <td>2899.41</td>\n",
       "      <td>2464.36</td>\n",
       "      <td>2179.7333</td>\n",
       "      <td>3085.3781</td>\n",
       "      <td>1.4843</td>\n",
       "      <td>100.0</td>\n",
       "      <td>82.2467</td>\n",
       "      <td>0.1248</td>\n",
       "      <td>1.3424</td>\n",
       "      <td>-0.0045</td>\n",
       "      <td>...</td>\n",
       "      <td>0.4988</td>\n",
       "      <td>0.0143</td>\n",
       "      <td>0.0039</td>\n",
       "      <td>2.8669</td>\n",
       "      <td>0.0068</td>\n",
       "      <td>0.0138</td>\n",
       "      <td>0.0047</td>\n",
       "      <td>203.1720</td>\n",
       "      <td>-1</td>\n",
       "      <td>2008-10-16 15:13:00</td>\n",
       "    </tr>\n",
       "    <tr>\n",
       "      <th>1563</th>\n",
       "      <td>3052.31</td>\n",
       "      <td>2522.55</td>\n",
       "      <td>2198.5667</td>\n",
       "      <td>1124.6595</td>\n",
       "      <td>0.8763</td>\n",
       "      <td>100.0</td>\n",
       "      <td>98.4689</td>\n",
       "      <td>0.1205</td>\n",
       "      <td>1.4333</td>\n",
       "      <td>-0.0061</td>\n",
       "      <td>...</td>\n",
       "      <td>0.4975</td>\n",
       "      <td>0.0131</td>\n",
       "      <td>0.0036</td>\n",
       "      <td>2.6238</td>\n",
       "      <td>0.0068</td>\n",
       "      <td>0.0138</td>\n",
       "      <td>0.0047</td>\n",
       "      <td>203.1720</td>\n",
       "      <td>-1</td>\n",
       "      <td>2008-10-16 20:49:00</td>\n",
       "    </tr>\n",
       "    <tr>\n",
       "      <th>1564</th>\n",
       "      <td>2978.81</td>\n",
       "      <td>2379.78</td>\n",
       "      <td>2206.3000</td>\n",
       "      <td>1110.4967</td>\n",
       "      <td>0.8236</td>\n",
       "      <td>100.0</td>\n",
       "      <td>99.4122</td>\n",
       "      <td>0.1208</td>\n",
       "      <td>NaN</td>\n",
       "      <td>NaN</td>\n",
       "      <td>...</td>\n",
       "      <td>0.4987</td>\n",
       "      <td>0.0153</td>\n",
       "      <td>0.0041</td>\n",
       "      <td>3.0590</td>\n",
       "      <td>0.0197</td>\n",
       "      <td>0.0086</td>\n",
       "      <td>0.0025</td>\n",
       "      <td>43.5231</td>\n",
       "      <td>-1</td>\n",
       "      <td>2008-10-17 05:26:00</td>\n",
       "    </tr>\n",
       "    <tr>\n",
       "      <th>1565</th>\n",
       "      <td>2894.92</td>\n",
       "      <td>2532.01</td>\n",
       "      <td>2177.0333</td>\n",
       "      <td>1183.7287</td>\n",
       "      <td>1.5726</td>\n",
       "      <td>100.0</td>\n",
       "      <td>98.7978</td>\n",
       "      <td>0.1213</td>\n",
       "      <td>1.4622</td>\n",
       "      <td>-0.0072</td>\n",
       "      <td>...</td>\n",
       "      <td>0.5004</td>\n",
       "      <td>0.0178</td>\n",
       "      <td>0.0038</td>\n",
       "      <td>3.5662</td>\n",
       "      <td>0.0262</td>\n",
       "      <td>0.0245</td>\n",
       "      <td>0.0075</td>\n",
       "      <td>93.4941</td>\n",
       "      <td>-1</td>\n",
       "      <td>2008-10-17 06:01:00</td>\n",
       "    </tr>\n",
       "    <tr>\n",
       "      <th>1566</th>\n",
       "      <td>2944.92</td>\n",
       "      <td>2450.76</td>\n",
       "      <td>2195.4444</td>\n",
       "      <td>2914.1792</td>\n",
       "      <td>1.5978</td>\n",
       "      <td>100.0</td>\n",
       "      <td>85.1011</td>\n",
       "      <td>0.1235</td>\n",
       "      <td>NaN</td>\n",
       "      <td>NaN</td>\n",
       "      <td>...</td>\n",
       "      <td>0.4987</td>\n",
       "      <td>0.0181</td>\n",
       "      <td>0.0040</td>\n",
       "      <td>3.6275</td>\n",
       "      <td>0.0117</td>\n",
       "      <td>0.0162</td>\n",
       "      <td>0.0045</td>\n",
       "      <td>137.7844</td>\n",
       "      <td>-1</td>\n",
       "      <td>2008-10-17 06:07:00</td>\n",
       "    </tr>\n",
       "  </tbody>\n",
       "</table>\n",
       "<p>5 rows × 592 columns</p>\n",
       "</div>"
      ],
      "text/plain": [
       "      feature1  feature2   feature3   feature4  feature5  feature6  feature7  \\\n",
       "1562   2899.41   2464.36  2179.7333  3085.3781    1.4843     100.0   82.2467   \n",
       "1563   3052.31   2522.55  2198.5667  1124.6595    0.8763     100.0   98.4689   \n",
       "1564   2978.81   2379.78  2206.3000  1110.4967    0.8236     100.0   99.4122   \n",
       "1565   2894.92   2532.01  2177.0333  1183.7287    1.5726     100.0   98.7978   \n",
       "1566   2944.92   2450.76  2195.4444  2914.1792    1.5978     100.0   85.1011   \n",
       "\n",
       "      feature8  feature9  feature10  ...  feature583  feature584  feature585  \\\n",
       "1562    0.1248    1.3424    -0.0045  ...      0.4988      0.0143      0.0039   \n",
       "1563    0.1205    1.4333    -0.0061  ...      0.4975      0.0131      0.0036   \n",
       "1564    0.1208       NaN        NaN  ...      0.4987      0.0153      0.0041   \n",
       "1565    0.1213    1.4622    -0.0072  ...      0.5004      0.0178      0.0038   \n",
       "1566    0.1235       NaN        NaN  ...      0.4987      0.0181      0.0040   \n",
       "\n",
       "      feature586  feature587  feature588  feature589  feature590  \\\n",
       "1562      2.8669      0.0068      0.0138      0.0047    203.1720   \n",
       "1563      2.6238      0.0068      0.0138      0.0047    203.1720   \n",
       "1564      3.0590      0.0197      0.0086      0.0025     43.5231   \n",
       "1565      3.5662      0.0262      0.0245      0.0075     93.4941   \n",
       "1566      3.6275      0.0117      0.0162      0.0045    137.7844   \n",
       "\n",
       "      classification                date  \n",
       "1562              -1 2008-10-16 15:13:00  \n",
       "1563              -1 2008-10-16 20:49:00  \n",
       "1564              -1 2008-10-17 05:26:00  \n",
       "1565              -1 2008-10-17 06:01:00  \n",
       "1566              -1 2008-10-17 06:07:00  \n",
       "\n",
       "[5 rows x 592 columns]"
      ]
     },
     "execution_count": 5,
     "metadata": {},
     "output_type": "execute_result"
    }
   ],
   "source": [
    "dia_merged.tail()"
   ]
  },
  {
   "cell_type": "code",
   "execution_count": 6,
   "metadata": {},
   "outputs": [
    {
     "data": {
      "text/plain": [
       "(1567, 592)"
      ]
     },
     "execution_count": 6,
     "metadata": {},
     "output_type": "execute_result"
    }
   ],
   "source": [
    "dia_merged.shape"
   ]
  },
  {
   "cell_type": "code",
   "execution_count": 7,
   "metadata": {},
   "outputs": [
    {
     "data": {
      "text/plain": [
       "-1    1463\n",
       " 1     104\n",
       "Name: classification, dtype: int64"
      ]
     },
     "execution_count": 7,
     "metadata": {},
     "output_type": "execute_result"
    }
   ],
   "source": [
    "dia_merged.classification.value_counts()"
   ]
  },
  {
   "cell_type": "markdown",
   "metadata": {},
   "source": [
    "**Initial summary of dataset**\n",
    "1. The dataset contains 590 sensor data for manufacturing of diapers. There are total 1567 data which represents machine runs from 19th July 2008 to 17th Oct 2008 (3 months)\n",
    "2. Classification feature is the dependant feature. '-1' represents successfull run while '1' represents failure\n",
    "3. Output class has imbalanced data (14:1) "
   ]
  },
  {
   "cell_type": "code",
   "execution_count": 8,
   "metadata": {},
   "outputs": [],
   "source": [
    "#replace dependant feature as 1=Failure and 0=success\n",
    "dia_merged.classification = dia_merged.classification.replace(-1,0)"
   ]
  },
  {
   "cell_type": "code",
   "execution_count": 9,
   "metadata": {},
   "outputs": [
    {
     "data": {
      "text/plain": [
       "0    1463\n",
       "1     104\n",
       "Name: classification, dtype: int64"
      ]
     },
     "execution_count": 9,
     "metadata": {},
     "output_type": "execute_result"
    }
   ],
   "source": [
    "dia_merged.classification.value_counts()"
   ]
  },
  {
   "cell_type": "markdown",
   "metadata": {},
   "source": [
    "## Data Cleaning "
   ]
  },
  {
   "cell_type": "code",
   "execution_count": 10,
   "metadata": {},
   "outputs": [],
   "source": [
    "#lets convert all features to float/numberic\n",
    "dia_df = dia_merged.apply(pd.to_numeric,errors='coerce')"
   ]
  },
  {
   "cell_type": "code",
   "execution_count": 11,
   "metadata": {},
   "outputs": [
    {
     "data": {
      "image/png": "[encoded data removed]",
      "text/plain": [
       "<Figure size 432x288 with 1 Axes>"
      ]
     },
     "metadata": {
      "needs_background": "light"
     },
     "output_type": "display_data"
    }
   ],
   "source": [
    "#check the missing values for each feature in \n",
    "\n",
    "data_missing= dia_df.isna().sum().sort_values(ascending=False)\n",
    "data_missing.hist(bins=100)\n",
    "plt.title(\"Distribution of missing values\")\n",
    "plt.xlabel(\"No. of missing values in a column\")\n",
    "plt.ylabel(\"Columns\")\n",
    "plt.show()"
   ]
  },
  {
   "cell_type": "markdown",
   "metadata": {},
   "source": [
    "### lets remove all columns where there are more than 800 values missing. Its no use to fill them out with any data"
   ]
  },
  {
   "cell_type": "code",
   "execution_count": 12,
   "metadata": {},
   "outputs": [
    {
     "data": {
      "text/plain": [
       "(1567, 564)"
      ]
     },
     "execution_count": 12,
     "metadata": {},
     "output_type": "execute_result"
    }
   ],
   "source": [
    "dia_df.dropna(axis='columns',thresh=800,inplace=True)\n",
    "dia_df.shape"
   ]
  },
  {
   "cell_type": "markdown",
   "metadata": {},
   "source": [
    "#### From 590 features, it has come down to 564. Now lets review how many columns have same values or zero std deviation "
   ]
  },
  {
   "cell_type": "code",
   "execution_count": 13,
   "metadata": {},
   "outputs": [
    {
     "data": {
      "text/plain": [
       "126"
      ]
     },
     "execution_count": 13,
     "metadata": {},
     "output_type": "execute_result"
    }
   ],
   "source": [
    "#count features having very low std deviation\n",
    "dia_df.loc[:, dia_df.std() <= 0.001].nunique().count()"
   ]
  },
  {
   "cell_type": "code",
   "execution_count": 14,
   "metadata": {},
   "outputs": [
    {
     "data": {
      "text/plain": [
       "(1567, 438)"
      ]
     },
     "execution_count": 14,
     "metadata": {},
     "output_type": "execute_result"
    }
   ],
   "source": [
    "#drop all columns having similar values or low std deviation \n",
    "dia_new = dia_df.loc[:, dia_df.std() > 0.001]\n",
    "dia_new.shape"
   ]
  },
  {
   "cell_type": "markdown",
   "metadata": {},
   "source": [
    "## The total features remaining are now 438 which is 126 less than 564 in step above"
   ]
  },
  {
   "cell_type": "code",
   "execution_count": 15,
   "metadata": {},
   "outputs": [
    {
     "data": {
      "text/html": [
       "<div>\n",
       "<style scoped>\n",
       "    .dataframe tbody tr th:only-of-type {\n",
       "        vertical-align: middle;\n",
       "    }\n",
       "\n",
       "    .dataframe tbody tr th {\n",
       "        vertical-align: top;\n",
       "    }\n",
       "\n",
       "    .dataframe thead th {\n",
       "        text-align: right;\n",
       "    }\n",
       "</style>\n",
       "<table border=\"1\" class=\"dataframe\">\n",
       "  <thead>\n",
       "    <tr style=\"text-align: right;\">\n",
       "      <th></th>\n",
       "      <th>feature1</th>\n",
       "      <th>feature2</th>\n",
       "      <th>feature3</th>\n",
       "      <th>feature4</th>\n",
       "      <th>feature5</th>\n",
       "      <th>feature7</th>\n",
       "      <th>feature8</th>\n",
       "      <th>feature9</th>\n",
       "      <th>feature10</th>\n",
       "      <th>feature11</th>\n",
       "      <th>...</th>\n",
       "      <th>feature583</th>\n",
       "      <th>feature584</th>\n",
       "      <th>feature585</th>\n",
       "      <th>feature586</th>\n",
       "      <th>feature587</th>\n",
       "      <th>feature588</th>\n",
       "      <th>feature589</th>\n",
       "      <th>feature590</th>\n",
       "      <th>classification</th>\n",
       "      <th>date</th>\n",
       "    </tr>\n",
       "  </thead>\n",
       "  <tbody>\n",
       "    <tr>\n",
       "      <th>count</th>\n",
       "      <td>1561.000000</td>\n",
       "      <td>1560.000000</td>\n",
       "      <td>1553.000000</td>\n",
       "      <td>1553.000000</td>\n",
       "      <td>1553.000000</td>\n",
       "      <td>1553.000000</td>\n",
       "      <td>1558.000000</td>\n",
       "      <td>1565.000000</td>\n",
       "      <td>1565.000000</td>\n",
       "      <td>1565.000000</td>\n",
       "      <td>...</td>\n",
       "      <td>1566.000000</td>\n",
       "      <td>1566.000000</td>\n",
       "      <td>1566.000000</td>\n",
       "      <td>1566.000000</td>\n",
       "      <td>1566.000000</td>\n",
       "      <td>1566.000000</td>\n",
       "      <td>1566.000000</td>\n",
       "      <td>1566.000000</td>\n",
       "      <td>1567.000000</td>\n",
       "      <td>1.567000e+03</td>\n",
       "    </tr>\n",
       "    <tr>\n",
       "      <th>mean</th>\n",
       "      <td>3014.452896</td>\n",
       "      <td>2495.850231</td>\n",
       "      <td>2200.547318</td>\n",
       "      <td>1396.376627</td>\n",
       "      <td>4.197013</td>\n",
       "      <td>101.112908</td>\n",
       "      <td>0.121822</td>\n",
       "      <td>1.462862</td>\n",
       "      <td>-0.000841</td>\n",
       "      <td>0.000146</td>\n",
       "      <td>...</td>\n",
       "      <td>0.500096</td>\n",
       "      <td>0.015318</td>\n",
       "      <td>0.003847</td>\n",
       "      <td>3.067826</td>\n",
       "      <td>0.021458</td>\n",
       "      <td>0.016475</td>\n",
       "      <td>0.005283</td>\n",
       "      <td>99.670066</td>\n",
       "      <td>0.066369</td>\n",
       "      <td>1.217454e+18</td>\n",
       "    </tr>\n",
       "    <tr>\n",
       "      <th>std</th>\n",
       "      <td>73.621787</td>\n",
       "      <td>80.407705</td>\n",
       "      <td>29.513152</td>\n",
       "      <td>441.691640</td>\n",
       "      <td>56.355540</td>\n",
       "      <td>6.237214</td>\n",
       "      <td>0.008961</td>\n",
       "      <td>0.073897</td>\n",
       "      <td>0.015116</td>\n",
       "      <td>0.009302</td>\n",
       "      <td>...</td>\n",
       "      <td>0.003404</td>\n",
       "      <td>0.017180</td>\n",
       "      <td>0.003720</td>\n",
       "      <td>3.578033</td>\n",
       "      <td>0.012358</td>\n",
       "      <td>0.008808</td>\n",
       "      <td>0.002867</td>\n",
       "      <td>93.891919</td>\n",
       "      <td>0.249005</td>\n",
       "      <td>7.023985e+15</td>\n",
       "    </tr>\n",
       "    <tr>\n",
       "      <th>min</th>\n",
       "      <td>2743.240000</td>\n",
       "      <td>2158.750000</td>\n",
       "      <td>2060.660000</td>\n",
       "      <td>0.000000</td>\n",
       "      <td>0.681500</td>\n",
       "      <td>82.131100</td>\n",
       "      <td>0.000000</td>\n",
       "      <td>1.191000</td>\n",
       "      <td>-0.053400</td>\n",
       "      <td>-0.034900</td>\n",
       "      <td>...</td>\n",
       "      <td>0.477800</td>\n",
       "      <td>0.006000</td>\n",
       "      <td>0.001700</td>\n",
       "      <td>1.197500</td>\n",
       "      <td>-0.016900</td>\n",
       "      <td>0.003200</td>\n",
       "      <td>0.001000</td>\n",
       "      <td>0.000000</td>\n",
       "      <td>0.000000</td>\n",
       "      <td>1.199758e+18</td>\n",
       "    </tr>\n",
       "    <tr>\n",
       "      <th>25%</th>\n",
       "      <td>2966.260000</td>\n",
       "      <td>2452.247500</td>\n",
       "      <td>2181.044400</td>\n",
       "      <td>1081.875800</td>\n",
       "      <td>1.017700</td>\n",
       "      <td>97.920000</td>\n",
       "      <td>0.121100</td>\n",
       "      <td>1.411200</td>\n",
       "      <td>-0.010800</td>\n",
       "      <td>-0.005600</td>\n",
       "      <td>...</td>\n",
       "      <td>0.497900</td>\n",
       "      <td>0.011600</td>\n",
       "      <td>0.003100</td>\n",
       "      <td>2.306500</td>\n",
       "      <td>0.013425</td>\n",
       "      <td>0.010600</td>\n",
       "      <td>0.003300</td>\n",
       "      <td>44.368600</td>\n",
       "      <td>0.000000</td>\n",
       "      <td>1.215618e+18</td>\n",
       "    </tr>\n",
       "    <tr>\n",
       "      <th>50%</th>\n",
       "      <td>3011.490000</td>\n",
       "      <td>2499.405000</td>\n",
       "      <td>2201.066700</td>\n",
       "      <td>1285.214400</td>\n",
       "      <td>1.316800</td>\n",
       "      <td>101.512200</td>\n",
       "      <td>0.122400</td>\n",
       "      <td>1.461600</td>\n",
       "      <td>-0.001300</td>\n",
       "      <td>0.000400</td>\n",
       "      <td>...</td>\n",
       "      <td>0.500200</td>\n",
       "      <td>0.013800</td>\n",
       "      <td>0.003600</td>\n",
       "      <td>2.757650</td>\n",
       "      <td>0.020500</td>\n",
       "      <td>0.014800</td>\n",
       "      <td>0.004600</td>\n",
       "      <td>71.900500</td>\n",
       "      <td>0.000000</td>\n",
       "      <td>1.219497e+18</td>\n",
       "    </tr>\n",
       "    <tr>\n",
       "      <th>75%</th>\n",
       "      <td>3056.650000</td>\n",
       "      <td>2538.822500</td>\n",
       "      <td>2218.055500</td>\n",
       "      <td>1591.223500</td>\n",
       "      <td>1.525700</td>\n",
       "      <td>104.586700</td>\n",
       "      <td>0.123800</td>\n",
       "      <td>1.516900</td>\n",
       "      <td>0.008400</td>\n",
       "      <td>0.005900</td>\n",
       "      <td>...</td>\n",
       "      <td>0.502375</td>\n",
       "      <td>0.016500</td>\n",
       "      <td>0.004100</td>\n",
       "      <td>3.295175</td>\n",
       "      <td>0.027600</td>\n",
       "      <td>0.020300</td>\n",
       "      <td>0.006400</td>\n",
       "      <td>114.749700</td>\n",
       "      <td>0.000000</td>\n",
       "      <td>1.222082e+18</td>\n",
       "    </tr>\n",
       "    <tr>\n",
       "      <th>max</th>\n",
       "      <td>3356.350000</td>\n",
       "      <td>2846.440000</td>\n",
       "      <td>2315.266700</td>\n",
       "      <td>3715.041700</td>\n",
       "      <td>1114.536600</td>\n",
       "      <td>129.252200</td>\n",
       "      <td>0.128600</td>\n",
       "      <td>1.656400</td>\n",
       "      <td>0.074900</td>\n",
       "      <td>0.053000</td>\n",
       "      <td>...</td>\n",
       "      <td>0.509800</td>\n",
       "      <td>0.476600</td>\n",
       "      <td>0.104500</td>\n",
       "      <td>99.303200</td>\n",
       "      <td>0.102800</td>\n",
       "      <td>0.079900</td>\n",
       "      <td>0.028600</td>\n",
       "      <td>737.304800</td>\n",
       "      <td>1.000000</td>\n",
       "      <td>1.228935e+18</td>\n",
       "    </tr>\n",
       "  </tbody>\n",
       "</table>\n",
       "<p>8 rows × 438 columns</p>\n",
       "</div>"
      ],
      "text/plain": [
       "          feature1     feature2     feature3     feature4     feature5  \\\n",
       "count  1561.000000  1560.000000  1553.000000  1553.000000  1553.000000   \n",
       "mean   3014.452896  2495.850231  2200.547318  1396.376627     4.197013   \n",
       "std      73.621787    80.407705    29.513152   441.691640    56.355540   \n",
       "min    2743.240000  2158.750000  2060.660000     0.000000     0.681500   \n",
       "25%    2966.260000  2452.247500  2181.044400  1081.875800     1.017700   \n",
       "50%    3011.490000  2499.405000  2201.066700  1285.214400     1.316800   \n",
       "75%    3056.650000  2538.822500  2218.055500  1591.223500     1.525700   \n",
       "max    3356.350000  2846.440000  2315.266700  3715.041700  1114.536600   \n",
       "\n",
       "          feature7     feature8     feature9    feature10    feature11  ...  \\\n",
       "count  1553.000000  1558.000000  1565.000000  1565.000000  1565.000000  ...   \n",
       "mean    101.112908     0.121822     1.462862    -0.000841     0.000146  ...   \n",
       "std       6.237214     0.008961     0.073897     0.015116     0.009302  ...   \n",
       "min      82.131100     0.000000     1.191000    -0.053400    -0.034900  ...   \n",
       "25%      97.920000     0.121100     1.411200    -0.010800    -0.005600  ...   \n",
       "50%     101.512200     0.122400     1.461600    -0.001300     0.000400  ...   \n",
       "75%     104.586700     0.123800     1.516900     0.008400     0.005900  ...   \n",
       "max     129.252200     0.128600     1.656400     0.074900     0.053000  ...   \n",
       "\n",
       "        feature583   feature584   feature585   feature586   feature587  \\\n",
       "count  1566.000000  1566.000000  1566.000000  1566.000000  1566.000000   \n",
       "mean      0.500096     0.015318     0.003847     3.067826     0.021458   \n",
       "std       0.003404     0.017180     0.003720     3.578033     0.012358   \n",
       "min       0.477800     0.006000     0.001700     1.197500    -0.016900   \n",
       "25%       0.497900     0.011600     0.003100     2.306500     0.013425   \n",
       "50%       0.500200     0.013800     0.003600     2.757650     0.020500   \n",
       "75%       0.502375     0.016500     0.004100     3.295175     0.027600   \n",
       "max       0.509800     0.476600     0.104500    99.303200     0.102800   \n",
       "\n",
       "        feature588   feature589   feature590  classification          date  \n",
       "count  1566.000000  1566.000000  1566.000000     1567.000000  1.567000e+03  \n",
       "mean      0.016475     0.005283    99.670066        0.066369  1.217454e+18  \n",
       "std       0.008808     0.002867    93.891919        0.249005  7.023985e+15  \n",
       "min       0.003200     0.001000     0.000000        0.000000  1.199758e+18  \n",
       "25%       0.010600     0.003300    44.368600        0.000000  1.215618e+18  \n",
       "50%       0.014800     0.004600    71.900500        0.000000  1.219497e+18  \n",
       "75%       0.020300     0.006400   114.749700        0.000000  1.222082e+18  \n",
       "max       0.079900     0.028600   737.304800        1.000000  1.228935e+18  \n",
       "\n",
       "[8 rows x 438 columns]"
      ]
     },
     "execution_count": 15,
     "metadata": {},
     "output_type": "execute_result"
    }
   ],
   "source": [
    "dia_new.describe()"
   ]
  },
  {
   "cell_type": "code",
   "execution_count": 16,
   "metadata": {},
   "outputs": [
    {
     "data": {
      "text/plain": [
       "feature248        715\n",
       "feature520        715\n",
       "feature386        715\n",
       "feature113        715\n",
       "feature567        273\n",
       "                 ... \n",
       "feature157          0\n",
       "feature222          0\n",
       "classification      0\n",
       "feature256          0\n",
       "date                0\n",
       "Length: 438, dtype: int64"
      ]
     },
     "execution_count": 16,
     "metadata": {},
     "output_type": "execute_result"
    }
   ],
   "source": [
    "#check for missing values in the data\n",
    "dia_new.isna().sum().sort_values(ascending=False)"
   ]
  },
  {
   "cell_type": "code",
   "execution_count": 17,
   "metadata": {},
   "outputs": [
    {
     "data": {
      "text/plain": [
       "(1567, 434)"
      ]
     },
     "execution_count": 17,
     "metadata": {},
     "output_type": "execute_result"
    }
   ],
   "source": [
    "#i am going to remove top 4 features which are having 715 missing values \n",
    "dia_new = dia_new.drop(['feature248','feature520','feature386','feature113'],axis=1)\n",
    "dia_new.shape"
   ]
  },
  {
   "cell_type": "markdown",
   "metadata": {},
   "source": [
    "#### replace missing values using experimental iterative imputer"
   ]
  },
  {
   "cell_type": "code",
   "execution_count": 18,
   "metadata": {},
   "outputs": [],
   "source": [
    "from sklearn.experimental import enable_iterative_imputer\n",
    "from sklearn.impute import IterativeImputer\n",
    "imp = IterativeImputer(max_iter=3, random_state=0)\n",
    "dia = pd.DataFrame(imp.fit_transform(dia_new),columns=dia_new.columns)"
   ]
  },
  {
   "cell_type": "code",
   "execution_count": 19,
   "metadata": {},
   "outputs": [
    {
     "data": {
      "text/plain": [
       "date          0\n",
       "feature172    0\n",
       "feature161    0\n",
       "feature162    0\n",
       "feature163    0\n",
       "             ..\n",
       "feature392    0\n",
       "feature393    0\n",
       "feature394    0\n",
       "feature406    0\n",
       "feature1      0\n",
       "Length: 434, dtype: int64"
      ]
     },
     "execution_count": 19,
     "metadata": {},
     "output_type": "execute_result"
    }
   ],
   "source": [
    "#check for missing values in the new dataframe to confirm\n",
    "dia.isna().sum().sort_values(ascending=False)"
   ]
  },
  {
   "cell_type": "code",
   "execution_count": 20,
   "metadata": {},
   "outputs": [
    {
     "data": {
      "text/html": [
       "<div>\n",
       "<style scoped>\n",
       "    .dataframe tbody tr th:only-of-type {\n",
       "        vertical-align: middle;\n",
       "    }\n",
       "\n",
       "    .dataframe tbody tr th {\n",
       "        vertical-align: top;\n",
       "    }\n",
       "\n",
       "    .dataframe thead th {\n",
       "        text-align: right;\n",
       "    }\n",
       "</style>\n",
       "<table border=\"1\" class=\"dataframe\">\n",
       "  <thead>\n",
       "    <tr style=\"text-align: right;\">\n",
       "      <th></th>\n",
       "      <th>feature1</th>\n",
       "      <th>feature2</th>\n",
       "      <th>feature3</th>\n",
       "      <th>feature4</th>\n",
       "      <th>feature5</th>\n",
       "      <th>feature7</th>\n",
       "      <th>feature8</th>\n",
       "      <th>feature9</th>\n",
       "      <th>feature10</th>\n",
       "      <th>feature11</th>\n",
       "      <th>...</th>\n",
       "      <th>feature583</th>\n",
       "      <th>feature584</th>\n",
       "      <th>feature585</th>\n",
       "      <th>feature586</th>\n",
       "      <th>feature587</th>\n",
       "      <th>feature588</th>\n",
       "      <th>feature589</th>\n",
       "      <th>feature590</th>\n",
       "      <th>classification</th>\n",
       "      <th>date</th>\n",
       "    </tr>\n",
       "  </thead>\n",
       "  <tbody>\n",
       "    <tr>\n",
       "      <th>0</th>\n",
       "      <td>3030.93</td>\n",
       "      <td>2564.00</td>\n",
       "      <td>2187.7333</td>\n",
       "      <td>1411.1265</td>\n",
       "      <td>1.3602</td>\n",
       "      <td>97.6133</td>\n",
       "      <td>0.1242</td>\n",
       "      <td>1.5005</td>\n",
       "      <td>0.0162</td>\n",
       "      <td>-0.0034</td>\n",
       "      <td>...</td>\n",
       "      <td>0.5005</td>\n",
       "      <td>0.0118</td>\n",
       "      <td>0.0035</td>\n",
       "      <td>2.3630</td>\n",
       "      <td>0.023282</td>\n",
       "      <td>0.006882</td>\n",
       "      <td>0.000209</td>\n",
       "      <td>100.852593</td>\n",
       "      <td>0.0</td>\n",
       "      <td>1.216468e+18</td>\n",
       "    </tr>\n",
       "    <tr>\n",
       "      <th>1</th>\n",
       "      <td>3095.78</td>\n",
       "      <td>2465.14</td>\n",
       "      <td>2230.4222</td>\n",
       "      <td>1463.6606</td>\n",
       "      <td>0.8294</td>\n",
       "      <td>102.3433</td>\n",
       "      <td>0.1247</td>\n",
       "      <td>1.4966</td>\n",
       "      <td>-0.0005</td>\n",
       "      <td>-0.0148</td>\n",
       "      <td>...</td>\n",
       "      <td>0.5019</td>\n",
       "      <td>0.0223</td>\n",
       "      <td>0.0055</td>\n",
       "      <td>4.4447</td>\n",
       "      <td>0.009600</td>\n",
       "      <td>0.020100</td>\n",
       "      <td>0.006000</td>\n",
       "      <td>208.204500</td>\n",
       "      <td>0.0</td>\n",
       "      <td>1.216471e+18</td>\n",
       "    </tr>\n",
       "    <tr>\n",
       "      <th>2</th>\n",
       "      <td>2932.61</td>\n",
       "      <td>2559.94</td>\n",
       "      <td>2186.4111</td>\n",
       "      <td>1698.0172</td>\n",
       "      <td>1.5102</td>\n",
       "      <td>95.4878</td>\n",
       "      <td>0.1241</td>\n",
       "      <td>1.4436</td>\n",
       "      <td>0.0041</td>\n",
       "      <td>0.0013</td>\n",
       "      <td>...</td>\n",
       "      <td>0.4958</td>\n",
       "      <td>0.0157</td>\n",
       "      <td>0.0039</td>\n",
       "      <td>3.1745</td>\n",
       "      <td>0.058400</td>\n",
       "      <td>0.048400</td>\n",
       "      <td>0.014800</td>\n",
       "      <td>82.860200</td>\n",
       "      <td>1.0</td>\n",
       "      <td>1.216473e+18</td>\n",
       "    </tr>\n",
       "    <tr>\n",
       "      <th>3</th>\n",
       "      <td>2988.72</td>\n",
       "      <td>2479.90</td>\n",
       "      <td>2199.0333</td>\n",
       "      <td>909.7926</td>\n",
       "      <td>1.3204</td>\n",
       "      <td>104.2367</td>\n",
       "      <td>0.1217</td>\n",
       "      <td>1.4882</td>\n",
       "      <td>-0.0124</td>\n",
       "      <td>-0.0033</td>\n",
       "      <td>...</td>\n",
       "      <td>0.4990</td>\n",
       "      <td>0.0103</td>\n",
       "      <td>0.0025</td>\n",
       "      <td>2.0544</td>\n",
       "      <td>0.020200</td>\n",
       "      <td>0.014900</td>\n",
       "      <td>0.004400</td>\n",
       "      <td>73.843200</td>\n",
       "      <td>0.0</td>\n",
       "      <td>1.216479e+18</td>\n",
       "    </tr>\n",
       "    <tr>\n",
       "      <th>4</th>\n",
       "      <td>3032.24</td>\n",
       "      <td>2502.87</td>\n",
       "      <td>2233.3667</td>\n",
       "      <td>1326.5200</td>\n",
       "      <td>1.5334</td>\n",
       "      <td>100.3967</td>\n",
       "      <td>0.1235</td>\n",
       "      <td>1.5031</td>\n",
       "      <td>-0.0031</td>\n",
       "      <td>-0.0072</td>\n",
       "      <td>...</td>\n",
       "      <td>0.4800</td>\n",
       "      <td>0.4766</td>\n",
       "      <td>0.1045</td>\n",
       "      <td>99.3032</td>\n",
       "      <td>0.020200</td>\n",
       "      <td>0.014900</td>\n",
       "      <td>0.004400</td>\n",
       "      <td>73.843200</td>\n",
       "      <td>0.0</td>\n",
       "      <td>1.216481e+18</td>\n",
       "    </tr>\n",
       "  </tbody>\n",
       "</table>\n",
       "<p>5 rows × 434 columns</p>\n",
       "</div>"
      ],
      "text/plain": [
       "   feature1  feature2   feature3   feature4  feature5  feature7  feature8  \\\n",
       "0   3030.93   2564.00  2187.7333  1411.1265    1.3602   97.6133    0.1242   \n",
       "1   3095.78   2465.14  2230.4222  1463.6606    0.8294  102.3433    0.1247   \n",
       "2   2932.61   2559.94  2186.4111  1698.0172    1.5102   95.4878    0.1241   \n",
       "3   2988.72   2479.90  2199.0333   909.7926    1.3204  104.2367    0.1217   \n",
       "4   3032.24   2502.87  2233.3667  1326.5200    1.5334  100.3967    0.1235   \n",
       "\n",
       "   feature9  feature10  feature11  ...  feature583  feature584  feature585  \\\n",
       "0    1.5005     0.0162    -0.0034  ...      0.5005      0.0118      0.0035   \n",
       "1    1.4966    -0.0005    -0.0148  ...      0.5019      0.0223      0.0055   \n",
       "2    1.4436     0.0041     0.0013  ...      0.4958      0.0157      0.0039   \n",
       "3    1.4882    -0.0124    -0.0033  ...      0.4990      0.0103      0.0025   \n",
       "4    1.5031    -0.0031    -0.0072  ...      0.4800      0.4766      0.1045   \n",
       "\n",
       "   feature586  feature587  feature588  feature589  feature590  classification  \\\n",
       "0      2.3630    0.023282    0.006882    0.000209  100.852593             0.0   \n",
       "1      4.4447    0.009600    0.020100    0.006000  208.204500             0.0   \n",
       "2      3.1745    0.058400    0.048400    0.014800   82.860200             1.0   \n",
       "3      2.0544    0.020200    0.014900    0.004400   73.843200             0.0   \n",
       "4     99.3032    0.020200    0.014900    0.004400   73.843200             0.0   \n",
       "\n",
       "           date  \n",
       "0  1.216468e+18  \n",
       "1  1.216471e+18  \n",
       "2  1.216473e+18  \n",
       "3  1.216479e+18  \n",
       "4  1.216481e+18  \n",
       "\n",
       "[5 rows x 434 columns]"
      ]
     },
     "execution_count": 20,
     "metadata": {},
     "output_type": "execute_result"
    }
   ],
   "source": [
    "dia.head()"
   ]
  },
  {
   "cell_type": "markdown",
   "metadata": {},
   "source": [
    "## In case of imbalaced data, random forests or decision tree based algorithms may peform better. Lets use random Forests classifier and get feature importance"
   ]
  },
  {
   "cell_type": "code",
   "execution_count": 21,
   "metadata": {},
   "outputs": [],
   "source": [
    "#separate x and y in dataset \n",
    "y = dia['classification']\n",
    "X = dia.drop(['classification','date'],axis=1)"
   ]
  },
  {
   "cell_type": "code",
   "execution_count": 22,
   "metadata": {},
   "outputs": [],
   "source": [
    "#split data in train and test\n",
    "from sklearn.model_selection import train_test_split\n"
   ]
  },
  {
   "cell_type": "code",
   "execution_count": 23,
   "metadata": {},
   "outputs": [
    {
     "data": {
      "text/plain": [
       "RandomForestClassifier(bootstrap=True, ccp_alpha=0.0, class_weight=None,\n",
       "                       criterion='gini', max_depth=None, max_features='auto',\n",
       "                       max_leaf_nodes=None, max_samples=None,\n",
       "                       min_impurity_decrease=0.0, min_impurity_split=None,\n",
       "                       min_samples_leaf=1, min_samples_split=2,\n",
       "                       min_weight_fraction_leaf=0.0, n_estimators=1000,\n",
       "                       n_jobs=None, oob_score=False, random_state=7, verbose=0,\n",
       "                       warm_start=False)"
      ]
     },
     "execution_count": 23,
     "metadata": {},
     "output_type": "execute_result"
    }
   ],
   "source": [
    "from sklearn.ensemble import RandomForestClassifier\n",
    "rf = RandomForestClassifier(n_estimators=1000, random_state=7)\n",
    "rf.fit(X, y)"
   ]
  },
  {
   "cell_type": "code",
   "execution_count": 24,
   "metadata": {},
   "outputs": [
    {
     "name": "stdout",
     "output_type": "stream",
     "text": [
      "Feature Rank:\n",
      "  1 column   59  0.0119\n",
      "  2 column   54  0.0110\n",
      "  3 column   60  0.0080\n",
      "  4 column  408  0.0073\n",
      "  5 column  314  0.0069\n",
      "  6 column   89  0.0068\n",
      "  7 column   38  0.0067\n",
      "  8 column  205  0.0064\n",
      "  9 column  132  0.0064\n",
      " 10 column   36  0.0058\n",
      " 11 column  355  0.0058\n",
      " 12 column  269  0.0057\n",
      " 13 column  329  0.0056\n",
      " 14 column   23  0.0053\n",
      " 15 column   65  0.0052\n",
      "\n",
      "\n",
      "428 column  177  0.0000\n",
      "429 column  356  0.0000\n",
      "430 column  174  0.0000\n",
      "431 column  265  0.0000\n",
      "432 column  268  0.0000\n",
      "The number of features better than average is: 154\n"
     ]
    }
   ],
   "source": [
    "# displaying features and their rank\n",
    "\n",
    "importance = rf.feature_importances_\n",
    "ranked_indices = np.argsort(importance)[::-1]\n",
    "\n",
    "print(\"Feature Rank:\")\n",
    "for i in range(15):\n",
    "    print(\"{0:3d} column  {1:3d}  {2:6.4f}\".format(i+1, ranked_indices[i], importance[ranked_indices[i]]))\n",
    "print (\"\\n\")\n",
    "for i in range(len(importance)-5,len(importance)):\n",
    "    print(\"{0:3d} column  {1:3d}  {2:6.4f}\".format(i+1, ranked_indices[i], importance[ranked_indices[i]]))\n",
    "\n",
    "navg = 0\n",
    "for i in range(len(importance)):    \n",
    "    if importance[ranked_indices[i]] > np.average(rf.feature_importances_):\n",
    "        navg = navg+1\n",
    "print('The number of features better than average is: {}'.format(navg))"
   ]
  },
  {
   "cell_type": "code",
   "execution_count": 25,
   "metadata": {},
   "outputs": [
    {
     "data": {
      "image/png": "[encoded data removed]",
      "text/plain": [
       "<Figure size 576x432 with 1 Axes>"
      ]
     },
     "metadata": {
      "needs_background": "light"
     },
     "output_type": "display_data"
    }
   ],
   "source": [
    "# plot of importance vs the number of features\n",
    "\n",
    "plt.figure(figsize=(8,6))\n",
    "plt.plot(range(len(importance)), importance[ranked_indices[:]])\n",
    "plt.axvline(15, color='magenta', linestyle='dashdot', label='n=15')\n",
    "plt.axvline(40, color='orange', linestyle='dashed', label='n=40')\n",
    "plt.axvline(65, color='turquoise', linestyle='dashdot', label='n=65')\n",
    "plt.axvline(100, color='red', linestyle='dotted', label='n=100')\n",
    "plt.text(15, 0.002, 'n=15', rotation='vertical')\n",
    "plt.text(40, 0.008, 'n=40', rotation='vertical')\n",
    "plt.text(65, 0.011, 'n=65', rotation='vertical')\n",
    "plt.text(100, 0.014, 'n=100', rotation='vertical')\n",
    "plt.title('Importance vs feature rank')\n",
    "plt.xlabel('feature rank')\n",
    "plt.ylabel('importance')\n",
    "plt.show()"
   ]
  },
  {
   "cell_type": "markdown",
   "metadata": {},
   "source": [
    "### From this plot, we see points of inflection around the 15, 40, 65 and 100 mark. The 50 percentile mark is at 148 so these are reduced feature sets, much smaller than the 434 features we have after cleaning the data"
   ]
  },
  {
   "cell_type": "code",
   "execution_count": 26,
   "metadata": {},
   "outputs": [
    {
     "data": {
      "text/plain": [
       "['feature65',\n",
       " 'feature60',\n",
       " 'feature66',\n",
       " 'feature563',\n",
       " 'feature427',\n",
       " 'feature104',\n",
       " 'feature41',\n",
       " 'feature268',\n",
       " 'feature154',\n",
       " 'feature39',\n",
       " 'feature478',\n",
       " 'feature349',\n",
       " 'feature442',\n",
       " 'feature26',\n",
       " 'feature72',\n",
       " 'feature426',\n",
       " 'feature342',\n",
       " 'feature17',\n",
       " 'feature27',\n",
       " 'feature211',\n",
       " 'feature206',\n",
       " 'feature78',\n",
       " 'feature302',\n",
       " 'feature133',\n",
       " 'feature22',\n",
       " 'feature100',\n",
       " 'feature3',\n",
       " 'feature153',\n",
       " 'feature288',\n",
       " 'feature540',\n",
       " 'feature52',\n",
       " 'feature64',\n",
       " 'feature575',\n",
       " 'feature353',\n",
       " 'feature167',\n",
       " 'feature332',\n",
       " 'feature212',\n",
       " 'feature552',\n",
       " 'feature511',\n",
       " 'feature430',\n",
       " 'feature438',\n",
       " 'feature103',\n",
       " 'feature122',\n",
       " 'feature351',\n",
       " 'feature1',\n",
       " 'feature436',\n",
       " 'feature289',\n",
       " 'feature82',\n",
       " 'feature568',\n",
       " 'feature551',\n",
       " 'feature495',\n",
       " 'feature562',\n",
       " 'feature555',\n",
       " 'feature124',\n",
       " 'feature476',\n",
       " 'feature63',\n",
       " 'feature558',\n",
       " 'feature424',\n",
       " 'feature213',\n",
       " 'feature300',\n",
       " 'feature157',\n",
       " 'feature583',\n",
       " 'feature334',\n",
       " 'feature360',\n",
       " 'feature89',\n",
       " 'feature171',\n",
       " 'feature461',\n",
       " 'feature165',\n",
       " 'feature240',\n",
       " 'feature222',\n",
       " 'feature31',\n",
       " 'feature524',\n",
       " 'feature76',\n",
       " 'feature585',\n",
       " 'feature28',\n",
       " 'feature350',\n",
       " 'feature68',\n",
       " 'feature23',\n",
       " 'feature494',\n",
       " 'feature121',\n",
       " 'feature477',\n",
       " 'feature169',\n",
       " 'feature155',\n",
       " 'feature34',\n",
       " 'feature125',\n",
       " 'feature120',\n",
       " 'feature437',\n",
       " 'feature498',\n",
       " 'feature434',\n",
       " 'feature46',\n",
       " 'feature62',\n",
       " 'feature118',\n",
       " 'feature363',\n",
       " 'feature201',\n",
       " 'feature364',\n",
       " 'feature204',\n",
       " 'feature189',\n",
       " 'feature588',\n",
       " 'feature338',\n",
       " 'feature474',\n",
       " 'feature574',\n",
       " 'feature557',\n",
       " 'feature355',\n",
       " 'feature71',\n",
       " 'feature215',\n",
       " 'feature108',\n",
       " 'feature501',\n",
       " 'feature198',\n",
       " 'feature170',\n",
       " 'feature49',\n",
       " 'feature217',\n",
       " 'feature84',\n",
       " 'feature13',\n",
       " 'feature296',\n",
       " 'feature299',\n",
       " 'feature94',\n",
       " 'feature572',\n",
       " 'feature421',\n",
       " 'feature340',\n",
       " 'feature577',\n",
       " 'feature570',\n",
       " 'feature148',\n",
       " 'feature79',\n",
       " 'feature139',\n",
       " 'feature226',\n",
       " 'feature584',\n",
       " 'feature366',\n",
       " 'feature304',\n",
       " 'feature578',\n",
       " 'feature83',\n",
       " 'feature422',\n",
       " 'feature576',\n",
       " 'feature161',\n",
       " 'feature489',\n",
       " 'feature12',\n",
       " 'feature560',\n",
       " 'feature223',\n",
       " 'feature292',\n",
       " 'feature431',\n",
       " 'feature432',\n",
       " 'feature357',\n",
       " 'feature197',\n",
       " 'feature283',\n",
       " 'feature325',\n",
       " 'feature11',\n",
       " 'feature439',\n",
       " 'feature196',\n",
       " 'feature333']"
      ]
     },
     "execution_count": 26,
     "metadata": {},
     "output_type": "execute_result"
    }
   ],
   "source": [
    "#select first 148 features for next analysis\n",
    "dia_importances = pd.Series(rf.feature_importances_, index=X.columns)\n",
    "selected = list(dia_importances.nlargest(148).index)\n",
    "selected"
   ]
  },
  {
   "cell_type": "code",
   "execution_count": 27,
   "metadata": {},
   "outputs": [],
   "source": [
    "#create final DataFrame with 148 features\n",
    "dia_final = dia[selected].join(y)"
   ]
  },
  {
   "cell_type": "code",
   "execution_count": 28,
   "metadata": {},
   "outputs": [
    {
     "data": {
      "text/plain": [
       "(1567, 149)"
      ]
     },
     "execution_count": 28,
     "metadata": {},
     "output_type": "execute_result"
    }
   ],
   "source": [
    "dia_final.shape"
   ]
  },
  {
   "cell_type": "code",
   "execution_count": 29,
   "metadata": {},
   "outputs": [],
   "source": [
    "X = dia_final.iloc[:,:148]\n",
    "y = dia_final.iloc[:,148]"
   ]
  },
  {
   "cell_type": "code",
   "execution_count": 30,
   "metadata": {},
   "outputs": [],
   "source": [
    "#!pip install -U imbalanced-learn --user"
   ]
  },
  {
   "cell_type": "code",
   "execution_count": 31,
   "metadata": {},
   "outputs": [],
   "source": [
    "#as previously noted, the dataset is highly imbalanced (13:1). I am proposing to use SMOTE to increase percentage of \n",
    "#minority class in dataset\n",
    "from imblearn.over_sampling import SMOTE\n",
    "\n",
    "#create SMOTE object\n",
    "sm = SMOTE(sampling_strategy=1.0,k_neighbors=3,random_state=1)\n",
    "X_sm, y_sm = sm.fit_sample(X,y)"
   ]
  },
  {
   "cell_type": "code",
   "execution_count": 32,
   "metadata": {},
   "outputs": [
    {
     "data": {
      "text/plain": [
       "(array([0., 1.]), array([1463, 1463], dtype=int64))"
      ]
     },
     "execution_count": 32,
     "metadata": {},
     "output_type": "execute_result"
    }
   ],
   "source": [
    "#both classes are now equally populated \n",
    "np.unique(y_sm,return_counts=True)"
   ]
  },
  {
   "cell_type": "code",
   "execution_count": 33,
   "metadata": {},
   "outputs": [
    {
     "name": "stdout",
     "output_type": "stream",
     "text": [
      "shape of x_train:  (2340, 148)\n",
      "shape of x_test:  (586, 148)\n",
      "shape of y_train:  (2340,)\n",
      "shape of y_test:  (586,)\n"
     ]
    }
   ],
   "source": [
    "# splitting them into train test and split\n",
    "\n",
    "from sklearn.model_selection import train_test_split\n",
    "\n",
    "x_train, x_test, y_train, y_test = train_test_split(X_sm, y_sm, test_size = 0.2, random_state = 1)\n",
    "\n",
    "# gettiing the shapes\n",
    "print(\"shape of x_train: \", x_train.shape)\n",
    "print(\"shape of x_test: \", x_test.shape)\n",
    "print(\"shape of y_train: \", y_train.shape)\n",
    "print(\"shape of y_test: \", y_test.shape)"
   ]
  },
  {
   "cell_type": "code",
   "execution_count": 34,
   "metadata": {},
   "outputs": [],
   "source": [
    "#lets scale the dataset\n",
    "from sklearn.preprocessing import StandardScaler\n",
    "\n",
    "#creating a standard scaler\n",
    "scaler = StandardScaler()\n",
    "\n",
    "#scale the independant datasets\n",
    "x_train = scaler.fit_transform(x_train)\n",
    "x_test = scaler.transform(x_test)"
   ]
  },
  {
   "cell_type": "code",
   "execution_count": 110,
   "metadata": {},
   "outputs": [],
   "source": [
    "Y_tf = y_train.values"
   ]
  },
  {
   "cell_type": "markdown",
   "metadata": {},
   "source": [
    "## Simple Neural Network Model"
   ]
  },
  {
   "cell_type": "code",
   "execution_count": 41,
   "metadata": {},
   "outputs": [],
   "source": [
    "from sklearn.neural_network import MLPClassifier\n",
    "from sklearn.metrics import confusion_matrix\n",
    "from sklearn.metrics import classification_report "
   ]
  },
  {
   "cell_type": "code",
   "execution_count": 75,
   "metadata": {},
   "outputs": [
    {
     "data": {
      "text/plain": [
       "MLPClassifier(activation='relu', alpha=0.001, batch_size='auto', beta_1=0.9,\n",
       "              beta_2=0.999, early_stopping=True, epsilon=1e-08,\n",
       "              hidden_layer_sizes=(100, 100, 100, 100, 100, 100, 100, 100, 100),\n",
       "              learning_rate='constant', learning_rate_init=0.001, max_fun=15000,\n",
       "              max_iter=500, momentum=0.9, n_iter_no_change=10,\n",
       "              nesterovs_momentum=True, power_t=0.5, random_state=None,\n",
       "              shuffle=True, solver='adam', tol=0.0001, validation_fraction=0.1,\n",
       "              verbose=False, warm_start=False)"
      ]
     },
     "execution_count": 75,
     "metadata": {},
     "output_type": "execute_result"
    }
   ],
   "source": [
    "mlp = MLPClassifier(activation = 'relu',solver= 'adam',alpha= 0.001, learning_rate='constant',momentum= 0.9,\n",
    "                    hidden_layer_sizes=(100,100,100,100,100,100,100,100,100), max_iter=500,early_stopping=True)\n",
    "\n",
    "mlp.fit(x_train, y_train.values.ravel())"
   ]
  },
  {
   "cell_type": "code",
   "execution_count": 76,
   "metadata": {},
   "outputs": [],
   "source": [
    "predictions = mlp.predict(x_test)"
   ]
  },
  {
   "cell_type": "code",
   "execution_count": 77,
   "metadata": {},
   "outputs": [
    {
     "name": "stdout",
     "output_type": "stream",
     "text": [
      "[[293   7]\n",
      " [  2 284]]\n",
      "              precision    recall  f1-score   support\n",
      "\n",
      "         0.0       0.99      0.98      0.98       300\n",
      "         1.0       0.98      0.99      0.98       286\n",
      "\n",
      "    accuracy                           0.98       586\n",
      "   macro avg       0.98      0.98      0.98       586\n",
      "weighted avg       0.98      0.98      0.98       586\n",
      "\n"
     ]
    }
   ],
   "source": [
    "print(confusion_matrix(y_test,predictions))\n",
    "print(classification_report(y_test,predictions))"
   ]
  },
  {
   "cell_type": "markdown",
   "metadata": {},
   "source": [
    "## Lets apply random search to optimize hyperparameters"
   ]
  },
  {
   "cell_type": "code",
   "execution_count": 78,
   "metadata": {},
   "outputs": [],
   "source": [
    "from sklearn.model_selection import RandomizedSearchCV\n",
    "import itertools \n",
    "\n",
    "parameters = {'solver': ['sgd','adam'], 'activation': ['tanh','relu'],'learning_rate': ['adaptive','constant'],'hidden_layer_sizes':[x for x in itertools.product((10,50,100),repeat=9)]}\n",
    "clf_grid = RandomizedSearchCV(MLPClassifier(max_iter=500,early_stopping=True), parameters, cv=12, scoring='f1',n_jobs=-1)"
   ]
  },
  {
   "cell_type": "code",
   "execution_count": 80,
   "metadata": {},
   "outputs": [
    {
     "data": {
      "text/plain": [
       "RandomizedSearchCV(cv=12, error_score=nan,\n",
       "                   estimator=MLPClassifier(activation='relu', alpha=0.0001,\n",
       "                                           batch_size='auto', beta_1=0.9,\n",
       "                                           beta_2=0.999, early_stopping=True,\n",
       "                                           epsilon=1e-08,\n",
       "                                           hidden_layer_sizes=(100,),\n",
       "                                           learning_rate='constant',\n",
       "                                           learning_rate_init=0.001,\n",
       "                                           max_fun=15000, max_iter=500,\n",
       "                                           momentum=0.9, n_iter_no_change=10,\n",
       "                                           nesterovs_momentum=True, power_t=0.5,\n",
       "                                           random...\n",
       "                                                               (10, 10, 10, 10,\n",
       "                                                                10, 10, 100,\n",
       "                                                                100, 10),\n",
       "                                                               (10, 10, 10, 10,\n",
       "                                                                10, 10, 100,\n",
       "                                                                100, 50),\n",
       "                                                               (10, 10, 10, 10,\n",
       "                                                                10, 10, 100,\n",
       "                                                                100, 100),\n",
       "                                                               (10, 10, 10, 10,\n",
       "                                                                10, 50, 10, 10,\n",
       "                                                                10),\n",
       "                                                               (10, 10, 10, 10,\n",
       "                                                                10, 50, 10, 10,\n",
       "                                                                50),\n",
       "                                                               (10, 10, 10, 10,\n",
       "                                                                10, 50, 10, 10,\n",
       "                                                                100), ...],\n",
       "                                        'learning_rate': ['adaptive',\n",
       "                                                          'constant'],\n",
       "                                        'solver': ['sgd', 'adam']},\n",
       "                   pre_dispatch='2*n_jobs', random_state=None, refit=True,\n",
       "                   return_train_score=False, scoring='f1', verbose=0)"
      ]
     },
     "execution_count": 80,
     "metadata": {},
     "output_type": "execute_result"
    }
   ],
   "source": [
    "clf_grid.fit(x_train,y_train)"
   ]
  },
  {
   "cell_type": "code",
   "execution_count": 81,
   "metadata": {},
   "outputs": [
    {
     "data": {
      "text/plain": [
       "MLPClassifier(activation='relu', alpha=0.0001, batch_size='auto', beta_1=0.9,\n",
       "              beta_2=0.999, early_stopping=True, epsilon=1e-08,\n",
       "              hidden_layer_sizes=(100, 50, 50, 50, 10, 50, 50, 100, 10),\n",
       "              learning_rate='adaptive', learning_rate_init=0.001, max_fun=15000,\n",
       "              max_iter=500, momentum=0.9, n_iter_no_change=10,\n",
       "              nesterovs_momentum=True, power_t=0.5, random_state=None,\n",
       "              shuffle=True, solver='adam', tol=0.0001, validation_fraction=0.1,\n",
       "              verbose=False, warm_start=False)"
      ]
     },
     "execution_count": 81,
     "metadata": {},
     "output_type": "execute_result"
    }
   ],
   "source": [
    "#best parameter values\n",
    "clf_grid.best_estimator_"
   ]
  },
  {
   "cell_type": "code",
   "execution_count": 82,
   "metadata": {},
   "outputs": [
    {
     "name": "stdout",
     "output_type": "stream",
     "text": [
      "-----------------------------------------------------\n",
      "Classification report with gridCV optimzation\n",
      "-----------------------------------------------------\n",
      "              precision    recall  f1-score   support\n",
      "\n",
      "         0.0       1.00      0.97      0.98       300\n",
      "         1.0       0.97      1.00      0.98       286\n",
      "\n",
      "    accuracy                           0.98       586\n",
      "   macro avg       0.98      0.98      0.98       586\n",
      "weighted avg       0.98      0.98      0.98       586\n",
      "\n"
     ]
    }
   ],
   "source": [
    "print('-'*53)\n",
    "print('Classification report with gridCV optimzation')\n",
    "print('-'*53)\n",
    "print(classification_report(y_test,clf_grid.predict(x_test)))"
   ]
  },
  {
   "cell_type": "code",
   "execution_count": 83,
   "metadata": {},
   "outputs": [
    {
     "data": {
      "text/html": [
       "<div>\n",
       "<style scoped>\n",
       "    .dataframe tbody tr th:only-of-type {\n",
       "        vertical-align: middle;\n",
       "    }\n",
       "\n",
       "    .dataframe tbody tr th {\n",
       "        vertical-align: top;\n",
       "    }\n",
       "\n",
       "    .dataframe thead th {\n",
       "        text-align: right;\n",
       "    }\n",
       "</style>\n",
       "<table border=\"1\" class=\"dataframe\">\n",
       "  <thead>\n",
       "    <tr style=\"text-align: right;\">\n",
       "      <th>Actual</th>\n",
       "      <th>0.0</th>\n",
       "      <th>1.0</th>\n",
       "    </tr>\n",
       "    <tr>\n",
       "      <th>Predicted</th>\n",
       "      <th></th>\n",
       "      <th></th>\n",
       "    </tr>\n",
       "  </thead>\n",
       "  <tbody>\n",
       "    <tr>\n",
       "      <th>0.0</th>\n",
       "      <td>292</td>\n",
       "      <td>8</td>\n",
       "    </tr>\n",
       "    <tr>\n",
       "      <th>1.0</th>\n",
       "      <td>1</td>\n",
       "      <td>285</td>\n",
       "    </tr>\n",
       "  </tbody>\n",
       "</table>\n",
       "</div>"
      ],
      "text/plain": [
       "Actual     0.0  1.0\n",
       "Predicted          \n",
       "0.0        292    8\n",
       "1.0          1  285"
      ]
     },
     "execution_count": 83,
     "metadata": {},
     "output_type": "execute_result"
    }
   ],
   "source": [
    "# let's plot the confusion matrix\n",
    "cm1 = pd.DataFrame(index = clf_grid.best_estimator_.classes_, \n",
    "                   columns = clf_grid.best_estimator_.classes_,\n",
    "                   data = confusion_matrix(y_test,clf_grid.predict(x_test)))\n",
    "cm1.columns.name = 'Actual'\n",
    "cm1.index.name = 'Predicted'\n",
    "cm1"
   ]
  },
  {
   "cell_type": "markdown",
   "metadata": {},
   "source": [
    "## Deep neural network using tensorflow 2.x"
   ]
  },
  {
   "cell_type": "code",
   "execution_count": 85,
   "metadata": {},
   "outputs": [],
   "source": [
    "import tensorflow as tf\n",
    "from tensorflow import keras\n",
    "from tensorflow.keras import layers"
   ]
  },
  {
   "cell_type": "code",
   "execution_count": 86,
   "metadata": {},
   "outputs": [],
   "source": [
    "# Similar to setting random_state in sklearn, but does so more broadly\n",
    "tf.compat.v1.random.set_random_seed(7299)"
   ]
  },
  {
   "cell_type": "code",
   "execution_count": 88,
   "metadata": {},
   "outputs": [],
   "source": [
    "#instantiate sequencial object\n",
    "tfclf = tf.keras.Sequential()"
   ]
  },
  {
   "cell_type": "code",
   "execution_count": 198,
   "metadata": {},
   "outputs": [],
   "source": [
    "#lets add 9 hidden layers of 20 units each\n",
    "tfclf.add(layers.Dense(148, activation='relu',input_dim=148))"
   ]
  },
  {
   "cell_type": "code",
   "execution_count": 199,
   "metadata": {},
   "outputs": [],
   "source": [
    "# also have to add the output layer\n",
    "tfclf.add(layers.Dense(1, activation='sigmoid'))"
   ]
  },
  {
   "cell_type": "code",
   "execution_count": 200,
   "metadata": {},
   "outputs": [],
   "source": [
    "# pick an optimizer\n",
    "optimizer = keras.optimizers.Adam(learning_rate = 0.01, beta_1 = 0.1, beta_2 = 0.1)"
   ]
  },
  {
   "cell_type": "code",
   "execution_count": 201,
   "metadata": {},
   "outputs": [],
   "source": [
    "# compile the model\n",
    "# the metrics parameter is just for reporting\n",
    "tfclf.compile(optimizer = optimizer,\n",
    "              loss='binary_crossentropy',\n",
    "              metrics=['accuracy'])"
   ]
  },
  {
   "cell_type": "code",
   "execution_count": 202,
   "metadata": {},
   "outputs": [],
   "source": [
    "x_test = np.array(x_test) \n",
    "#y_test = np.array(y_test)"
   ]
  },
  {
   "cell_type": "code",
   "execution_count": 203,
   "metadata": {},
   "outputs": [
    {
     "name": "stdout",
     "output_type": "stream",
     "text": [
      "Train on 2340 samples\n",
      "Epoch 1/10\n",
      "2340/2340 [==============================] - 4s 2ms/sample - loss: 0.6970 - accuracy: 0.4868\n",
      "Epoch 2/10\n",
      "2340/2340 [==============================] - 1s 245us/sample - loss: 0.6948 - accuracy: 0.4970\n",
      "Epoch 3/10\n",
      "2340/2340 [==============================] - 0s 161us/sample - loss: 0.6957 - accuracy: 0.4902\n",
      "Epoch 4/10\n",
      "2340/2340 [==============================] - 1s 269us/sample - loss: 0.6939 - accuracy: 0.5038\n",
      "Epoch 5/10\n",
      "2340/2340 [==============================] - 0s 153us/sample - loss: 0.6940 - accuracy: 0.5004\n",
      "Epoch 6/10\n",
      "2340/2340 [==============================] - 0s 161us/sample - loss: 0.6936 - accuracy: 0.4987\n",
      "Epoch 7/10\n",
      "2340/2340 [==============================] - 0s 153us/sample - loss: 0.6940 - accuracy: 0.4902\n",
      "Epoch 8/10\n",
      "2340/2340 [==============================] - 0s 161us/sample - loss: 0.6937 - accuracy: 0.4962\n",
      "Epoch 9/10\n",
      "2340/2340 [==============================] - 0s 165us/sample - loss: 0.6936 - accuracy: 0.4996\n",
      "Epoch 10/10\n",
      "2340/2340 [==============================] - 0s 160us/sample - loss: 0.6935 - accuracy: 0.5030\n"
     ]
    }
   ],
   "source": [
    "# Fit and predict\n",
    "tfclf.fit(x_train, Y_tf, epochs=10, batch_size=100, verbose=1)\n",
    "Ytfclf = tfclf.predict(x_train).ravel()"
   ]
  },
  {
   "cell_type": "code",
   "execution_count": null,
   "metadata": {},
   "outputs": [],
   "source": []
  },
  {
   "cell_type": "code",
   "execution_count": null,
   "metadata": {},
   "outputs": [],
   "source": []
  },
  {
   "cell_type": "markdown",
   "metadata": {},
   "source": [
    "# Decision tree classifier"
   ]
  },
  {
   "cell_type": "code",
   "execution_count": 0,
   "metadata": {},
   "outputs": [],
   "source": [
    "from sklearn.tree import DecisionTreeClassifier\n",
    "# for model evaluation\n"
   ]
  },
  {
   "cell_type": "code",
   "execution_count": 0,
   "metadata": {},
   "outputs": [],
   "source": [
    "dtc = DecisionTreeClassifier(max_depth=40,min_samples_split=4,min_samples_leaf=1,random_state=987)\n",
    "dtc.fit(x_train,y_train)\n",
    "\n",
    "# predict (on both train and test sets)\n",
    "y_train_dtc = dtc.predict(x_train)\n",
    "y_test_dtc = dtc.predict(x_test)"
   ]
  },
  {
   "cell_type": "code",
   "execution_count": 0,
   "metadata": {},
   "outputs": [],
   "source": [
    "print('-'*55)\n",
    "print('Training scores')\n",
    "print('-'*55)\n",
    "print(classification_report(y_train, y_train_dtc))\n",
    "print()\n",
    "print('-'*55)\n",
    "print('Test scores decision tree')\n",
    "print('-'*55)\n",
    "print(classification_report(y_test, y_test_dtc))\n",
    "print('-'*55)"
   ]
  },
  {
   "cell_type": "code",
   "execution_count": 0,
   "metadata": {},
   "outputs": [],
   "source": [
    "    # let's plto the confusion matrix\n",
    "    cm1 = pd.DataFrame(index = dtc.classes_, \n",
    "                       columns = dtc.classes_,\n",
    "                       data = confusion_matrix(y_test, y_test_dtc))\n",
    "    cm1.columns.name = 'Actual'\n",
    "    cm1.index.name = 'Predicted'\n",
    "    cm1"
   ]
  },
  {
   "cell_type": "markdown",
   "metadata": {},
   "source": [
    "# Lets check if we can we do better using gridsearch"
   ]
  },
  {
   "cell_type": "code",
   "execution_count": 0,
   "metadata": {},
   "outputs": [],
   "source": [
    "param_grid = [\n",
    "    {'min_samples_split': [2,3,4,5], 'max_depth': [20,40,60,80],'min_samples_leaf':[1,2,3,4]}\n",
    "]\n",
    "gsCV = GridSearchCV(DecisionTreeClassifier(random_state=987),param_grid=param_grid, cv=12,scoring='recall',n_jobs=-1)\n",
    "gsCV.fit(x_train,y_train)"
   ]
  },
  {
   "cell_type": "code",
   "execution_count": 0,
   "metadata": {},
   "outputs": [],
   "source": [
    "# this is the best decision tree model.  It's of class DecisionTreeClassifier\n",
    "gsCV.best_estimator_"
   ]
  },
  {
   "cell_type": "code",
   "execution_count": 0,
   "metadata": {},
   "outputs": [],
   "source": [
    "print('-'*55)\n",
    "print('Test scores from Grid search Decision tree')\n",
    "print('-'*55)\n",
    "print(classification_report(y_test, gsCV.predict(x_test)))\n",
    "print('-'*55)\n",
    "print('Test scores decision tree')\n",
    "print('-'*55)\n",
    "print(classification_report(y_test, y_test_dtc))\n",
    "print('-'*55)"
   ]
  },
  {
   "cell_type": "markdown",
   "metadata": {},
   "source": [
    "### There is hardly any diffrence between the two."
   ]
  },
  {
   "cell_type": "markdown",
   "metadata": {},
   "source": [
    "# Random Forest Classifier"
   ]
  },
  {
   "cell_type": "code",
   "execution_count": 0,
   "metadata": {},
   "outputs": [],
   "source": [
    "min_samples_split = 64\n",
    "max_leaf_nodes = 64\n",
    "rfc = RandomForestClassifier(n_estimators=1000,\n",
    "                             max_leaf_nodes=max_leaf_nodes, \n",
    "                             min_samples_split=min_samples_split)\n",
    "rfc.fit(x_train, y_train)\n",
    "\n",
    "# predict (on both train and test sets)\n",
    "y_train_rfc = rfc.predict(x_train)\n",
    "y_test_rfc = rfc.predict(x_test)"
   ]
  },
  {
   "cell_type": "code",
   "execution_count": 0,
   "metadata": {},
   "outputs": [],
   "source": [
    "print('-'*53)\n",
    "print('Random Forest with non-optimal gridCV parameters')\n",
    "print('-'*53)\n",
    "print(classification_report(y_test, y_test_rfc))\n",
    "print('-'*53)\n",
    "print('Non- Optimized Decision Tree')\n",
    "print('-'*53)\n",
    "print(classification_report(y_test,y_test_dtc))"
   ]
  },
  {
   "cell_type": "markdown",
   "metadata": {},
   "source": [
    "### There is definetely improvement as compared to decision tree. "
   ]
  },
  {
   "cell_type": "code",
   "execution_count": 0,
   "metadata": {},
   "outputs": [],
   "source": [
    "# let's plot the confusion matrix\n",
    "cm2 = pd.DataFrame(index = rfc.classes_, \n",
    "                   columns = rfc.classes_,\n",
    "                   data = confusion_matrix(y_test, y_test_rfc))\n",
    "cm2.columns.name = 'Actual'\n",
    "cm2.index.name = 'Predicted'\n",
    "cm2"
   ]
  },
  {
   "cell_type": "markdown",
   "metadata": {},
   "source": [
    "# Lets check if we can we do better using gridsearch"
   ]
  },
  {
   "cell_type": "code",
   "execution_count": 1,
   "metadata": {},
   "outputs": [
    {
     "ename": "NameError",
     "evalue": "name 'GridSearchCV' is not defined",
     "output_type": "error",
     "traceback": [
      "\u001b[1;31m---------------------------------------------------------------------------\u001b[0m",
      "\u001b[1;31mNameError\u001b[0m                                 Traceback (most recent call last)",
      "\u001b[1;32m<ipython-input-1-774b30853399>\u001b[0m in \u001b[0;36m<module>\u001b[1;34m\u001b[0m\n\u001b[0;32m      2\u001b[0m     \u001b[1;33m{\u001b[0m\u001b[1;34m'max_leaf_nodes'\u001b[0m\u001b[1;33m:\u001b[0m\u001b[1;33m[\u001b[0m\u001b[1;36m20\u001b[0m\u001b[1;33m,\u001b[0m\u001b[1;36m40\u001b[0m\u001b[1;33m,\u001b[0m\u001b[1;36m80\u001b[0m\u001b[1;33m,\u001b[0m\u001b[1;36m100\u001b[0m\u001b[1;33m]\u001b[0m\u001b[1;33m,\u001b[0m\u001b[1;34m'n_estimators'\u001b[0m\u001b[1;33m:\u001b[0m\u001b[1;33m[\u001b[0m\u001b[1;36m100\u001b[0m\u001b[1;33m,\u001b[0m\u001b[1;36m500\u001b[0m\u001b[1;33m,\u001b[0m\u001b[1;36m1000\u001b[0m\u001b[1;33m,\u001b[0m\u001b[1;36m10000\u001b[0m\u001b[1;33m]\u001b[0m\u001b[1;33m}\u001b[0m\u001b[1;33m\u001b[0m\u001b[1;33m\u001b[0m\u001b[0m\n\u001b[0;32m      3\u001b[0m ]\n\u001b[1;32m----> 4\u001b[1;33m \u001b[0mrfgsCV\u001b[0m \u001b[1;33m=\u001b[0m \u001b[0mGridSearchCV\u001b[0m\u001b[1;33m(\u001b[0m\u001b[0mRandomForestClassifier\u001b[0m\u001b[1;33m(\u001b[0m\u001b[0mmin_samples_split\u001b[0m\u001b[1;33m=\u001b[0m\u001b[1;36m64\u001b[0m\u001b[1;33m)\u001b[0m\u001b[1;33m,\u001b[0m\u001b[0mparam_grid\u001b[0m\u001b[1;33m=\u001b[0m\u001b[0mparam_grid\u001b[0m\u001b[1;33m,\u001b[0m \u001b[0mcv\u001b[0m\u001b[1;33m=\u001b[0m\u001b[1;36m24\u001b[0m\u001b[1;33m,\u001b[0m\u001b[0mscoring\u001b[0m\u001b[1;33m=\u001b[0m\u001b[1;34m'recall'\u001b[0m\u001b[1;33m,\u001b[0m\u001b[0mn_jobs\u001b[0m\u001b[1;33m=\u001b[0m\u001b[1;33m-\u001b[0m\u001b[1;36m1\u001b[0m\u001b[1;33m)\u001b[0m\u001b[1;33m\u001b[0m\u001b[1;33m\u001b[0m\u001b[0m\n\u001b[0m\u001b[0;32m      5\u001b[0m \u001b[0mrfgsCV\u001b[0m\u001b[1;33m.\u001b[0m\u001b[0mfit\u001b[0m\u001b[1;33m(\u001b[0m\u001b[0mx_train\u001b[0m\u001b[1;33m,\u001b[0m\u001b[0my_train\u001b[0m\u001b[1;33m.\u001b[0m\u001b[0mvalues\u001b[0m\u001b[1;33m.\u001b[0m\u001b[0mreshape\u001b[0m\u001b[1;33m(\u001b[0m\u001b[1;33m-\u001b[0m\u001b[1;36m1\u001b[0m\u001b[1;33m,\u001b[0m\u001b[1;33m)\u001b[0m\u001b[1;33m)\u001b[0m\u001b[1;33m\u001b[0m\u001b[1;33m\u001b[0m\u001b[0m\n",
      "\u001b[1;31mNameError\u001b[0m: name 'GridSearchCV' is not defined"
     ]
    }
   ],
   "source": [
    "param_grid = [\n",
    "    {'max_leaf_nodes':[20,40,80,100],'n_estimators':[100,500,1000,10000]}\n",
    "]\n",
    "rfgsCV = GridSearchCV(RandomForestClassifier(min_samples_split=64),param_grid=param_grid, cv=24,scoring='recall',n_jobs=-1)\n",
    "rfgsCV.fit(x_train,y_train.values.reshape(-1,))"
   ]
  },
  {
   "cell_type": "code",
   "execution_count": 0,
   "metadata": {},
   "outputs": [],
   "source": [
    "# this is the best decision tree model.  It's of class RandomForestClassifier\n",
    "rfgsCV.best_estimator_"
   ]
  },
  {
   "cell_type": "code",
   "execution_count": 0,
   "metadata": {},
   "outputs": [],
   "source": [
    "print('-'*53)\n",
    "print('Random Forest with non-optimal gridCV parameters')\n",
    "print('-'*53)\n",
    "print(classification_report(y_test, y_test_rfc))\n",
    "print('-'*53)\n",
    "print('Random Forest with optimal gridCV parameters')\n",
    "print('-'*53)\n",
    "print(classification_report(y_test,rfgsCV.predict(x_test)))"
   ]
  },
  {
   "cell_type": "code",
   "execution_count": 0,
   "metadata": {},
   "outputs": [],
   "source": [
    "# let's plot the confusion matrix\n",
    "cm3 = pd.DataFrame(index = rfgsCV.classes_, \n",
    "                   columns = rfgsCV.classes_,\n",
    "                   data = confusion_matrix(y_test, rfgsCV.predict(x_test)))\n",
    "cm3.columns.name = 'Actual'\n",
    "cm3.index.name = 'Predicted'\n",
    "cm3"
   ]
  },
  {
   "cell_type": "markdown",
   "metadata": {},
   "source": [
    "# SVM"
   ]
  },
  {
   "cell_type": "code",
   "execution_count": 0,
   "metadata": {},
   "outputs": [],
   "source": [
    "#I am proposing to use svmSMOTE instead of earlier one. \n",
    "from imblearn.over_sampling import SVMSMOTE\n",
    "\n",
    "#create SMOTE object\n",
    "smv = SVMSMOTE(sampling_strategy=1.0,k_neighbors=3,random_state=1)\n",
    "X_sv, y_sv = smv.fit_sample(X,y)"
   ]
  },
  {
   "cell_type": "code",
   "execution_count": 0,
   "metadata": {},
   "outputs": [],
   "source": [
    "#check how classes are populated \n",
    "np.unique(y_sv,return_counts=True)"
   ]
  },
  {
   "cell_type": "code",
   "execution_count": 0,
   "metadata": {},
   "outputs": [],
   "source": [
    "# splitting them into train test and split\n",
    "\n",
    "from sklearn.model_selection import train_test_split\n",
    "\n",
    "x_train1, x_test1, y_train1, y_test1 = train_test_split(X_sv, y_sv, test_size = 0.3, random_state = 0)\n",
    "\n",
    "# gettiing the shapes\n",
    "print(\"shape of x_train1: \", x_train1.shape)\n",
    "print(\"shape of x_test1: \", x_test1.shape)\n",
    "print(\"shape of y_train1: \", y_train1.shape)\n",
    "print(\"shape of y_test1: \", y_test1.shape)"
   ]
  },
  {
   "cell_type": "code",
   "execution_count": 0,
   "metadata": {},
   "outputs": [],
   "source": [
    "#lets scale the dataset\n",
    "from sklearn.preprocessing import StandardScaler\n",
    "\n",
    "#creating a standard scaler\n",
    "scaler = StandardScaler()\n",
    "\n",
    "#scale the independant datasets\n",
    "x_train1 = scaler.fit_transform(x_train1)\n",
    "x_test1 = scaler.transform(x_test1)"
   ]
  },
  {
   "cell_type": "code",
   "execution_count": 0,
   "metadata": {},
   "outputs": [],
   "source": [
    "from sklearn.svm import SVC"
   ]
  },
  {
   "cell_type": "code",
   "execution_count": 0,
   "metadata": {},
   "outputs": [],
   "source": [
    "clfSVC = SVC(kernel='poly',degree=3,C=10,random_state=8,gamma='auto')\n",
    "clfSVC.fit(x_train1, y_train1)\n",
    "\n",
    "# predict (on both train and test sets)\n",
    "y_train_svc = clfSVC.predict(x_train1)\n",
    "y_test_svc = clfSVC.predict(x_test1)"
   ]
  },
  {
   "cell_type": "code",
   "execution_count": 0,
   "metadata": {},
   "outputs": [],
   "source": [
    "print('-'*53)\n",
    "print('Random Forest with non-optimal gridCV parameters')\n",
    "print('-'*53)\n",
    "print(classification_report(y_test, y_test_rfc))\n",
    "print('-'*53)\n",
    "print('Non- Optimized SVM ')\n",
    "print('-'*53)\n",
    "print(classification_report(y_test1,y_test_svc))"
   ]
  },
  {
   "cell_type": "code",
   "execution_count": 0,
   "metadata": {},
   "outputs": [],
   "source": [
    "# let's plot the confusion matrix\n",
    "cm3 = pd.DataFrame(index = clfSVC.classes_, \n",
    "                   columns = clfSVC.classes_,\n",
    "                   data = confusion_matrix(y_test1, y_test_svc))\n",
    "cm3.columns.name = 'Actual'\n",
    "cm3.index.name = 'Predicted'\n",
    "cm3"
   ]
  },
  {
   "cell_type": "markdown",
   "metadata": {},
   "source": [
    "# Conclusion"
   ]
  },
  {
   "cell_type": "markdown",
   "metadata": {},
   "source": [
    "Support Vector Machine with SVMSMOTE is clearly giving best results for recall/precision for faulty sensors predictions. Even after applying grid seaarch, the randomForest and decision trees are not able to provide same level of accuracy"
   ]
  },
  {
   "cell_type": "code",
   "execution_count": null,
   "metadata": {},
   "outputs": [],
   "source": []
  }
 ],
 "metadata": {
  "anaconda-cloud": {},
  "kernelspec": {
   "display_name": "python(nlp_cpu)",
   "language": "python",
   "name": "nlp_cpu"
  },
  "language_info": {
   "codemirror_mode": {
    "name": "ipython",
    "version": 3
   },
   "file_extension": ".py",
   "mimetype": "text/x-python",
   "name": "python",
   "nbconvert_exporter": "python",
   "pygments_lexer": "ipython3",
   "version": "3.6.8"
  }
 },
 "nbformat": 4,
 "nbformat_minor": 1
}
